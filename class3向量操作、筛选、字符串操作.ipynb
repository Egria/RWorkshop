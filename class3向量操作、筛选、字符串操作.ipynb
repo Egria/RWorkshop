{
 "cells": [
  {
   "cell_type": "markdown",
   "metadata": {},
   "source": [
    "## 第三课\n",
    "\n",
    "#### 牛行知\n",
    "#### 2020年10月25日\n",
    "\n",
    "### 类型，向量操作（2），字符串操作（1）"
   ]
  },
  {
   "cell_type": "markdown",
   "metadata": {},
   "source": [
    "### 复习题\n",
    "\n",
    "完成函数convert=function(data)，输入一个字符串，输出一个正整数构成的向量，令输入中的'A’、'a'对应位置转为1，'B'、'b'转为2，以此类推。不是英文字符的，转换成0.\n",
    "\n",
    "- 提示：参考函数charToRaw()"
   ]
  },
  {
   "cell_type": "code",
   "execution_count": 29,
   "metadata": {},
   "outputs": [],
   "source": [
    "# sample input\n",
    "input = c('aDkBHO3#0z+89}_HA^')\n",
    "# sample output\n",
    "output = c(1,4,11,2,8,15,0,0,0,26,0,0,0,0,0,8,1)"
   ]
  },
  {
   "cell_type": "code",
   "execution_count": 33,
   "metadata": {
    "scrolled": true
   },
   "outputs": [
    {
     "name": "stdout",
     "output_type": "stream",
     "text": [
      " [1]   1   4  11   2   8  15 -45 -61 -48  26 -53 -40 -39  29  -1   8   1  -2\n"
     ]
    },
    {
     "data": {
      "text/html": [
       "<style>\n",
       ".list-inline {list-style: none; margin:0; padding: 0}\n",
       ".list-inline>li {display: inline-block}\n",
       ".list-inline>li:not(:last-child)::after {content: \"\\00b7\"; padding: 0 .5ex}\n",
       "</style>\n",
       "<ol class=list-inline><li>1</li><li>4</li><li>11</li><li>2</li><li>8</li><li>15</li><li>-45</li><li>-61</li><li>-48</li><li>26</li><li>-53</li><li>-40</li><li>-39</li><li>29</li><li>-1</li><li>8</li><li>1</li><li>-2</li></ol>\n"
      ],
      "text/latex": [
       "\\begin{enumerate*}\n",
       "\\item 1\n",
       "\\item 4\n",
       "\\item 11\n",
       "\\item 2\n",
       "\\item 8\n",
       "\\item 15\n",
       "\\item -45\n",
       "\\item -61\n",
       "\\item -48\n",
       "\\item 26\n",
       "\\item -53\n",
       "\\item -40\n",
       "\\item -39\n",
       "\\item 29\n",
       "\\item -1\n",
       "\\item 8\n",
       "\\item 1\n",
       "\\item -2\n",
       "\\end{enumerate*}\n"
      ],
      "text/markdown": [
       "1. 1\n",
       "2. 4\n",
       "3. 11\n",
       "4. 2\n",
       "5. 8\n",
       "6. 15\n",
       "7. -45\n",
       "8. -61\n",
       "9. -48\n",
       "10. 26\n",
       "11. -53\n",
       "12. -40\n",
       "13. -39\n",
       "14. 29\n",
       "15. -1\n",
       "16. 8\n",
       "17. 1\n",
       "18. -2\n",
       "\n",
       "\n"
      ],
      "text/plain": [
       " [1]   1   4  11   2   8  15 -45 -61 -48  26 -53 -40 -39  29  -1   8   1  -2"
      ]
     },
     "metadata": {},
     "output_type": "display_data"
    }
   ],
   "source": [
    "#interface ( please complete the function )\n",
    "convert=function(data){\n",
    "    \n",
    "    res = NULL\n",
    "    # to code here and assign the return value to res\n",
    "    a = as.numeric(charToRaw(tolower(data)))-96\n",
    "    print(a)\n",
    "    n = length(a)\n",
    "    for (i in 1:n){\n",
    "        if (a[i]>0 && a[i]<27){\n",
    "            res = c(res,a[i])   #c（）拼接向量；paste（）拼接字符串\n",
    "        }else{\n",
    "            res =c(res,0)\n",
    "        }\n",
    "    #    if (a[i]<=0 | a[i]>=27){\n",
    "    #        a[i]=0\n",
    "    #    }\n",
    "        \n",
    "    }\n",
    "    #res = a\n",
    "    return(res)\n",
    "}\n",
    "convert(input)"
   ]
  },
  {
   "cell_type": "code",
   "execution_count": null,
   "metadata": {},
   "outputs": [],
   "source": [
    "# Reference Answer\n",
    "convert_ans = function(data){\n",
    "    res = as.numeric(charToRaw(tolower(data))) - 96\n",
    "    res[which((res<1)|(res>26))]=0\n",
    "    return(res)\n",
    "}"
   ]
  },
  {
   "cell_type": "code",
   "execution_count": 7,
   "metadata": {},
   "outputs": [
    {
     "name": "stdout",
     "output_type": "stream",
     "text": [
      "[1] 41\n"
     ]
    },
    {
     "name": "stderr",
     "output_type": "stream",
     "text": [
      "Warning message in charToRaw(test):\n",
      "“参数应该是长度为一的字符矢量，因此只能用其第一元素”\n"
     ]
    },
    {
     "name": "stdout",
     "output_type": "stream",
     "text": [
      "[1] 65\n",
      "[1] 7a\n",
      "[1] 97 98 99\n",
      "[1] 61 41\n",
      "[1] 97 65\n",
      "[1] \"raw\"\n",
      "[1] \"numeric\"\n",
      "[1] 61 41\n",
      "[1] \"61\" \"41\"\n",
      "[1] \"aA\"\n",
      "[1] \"aabd2?\"\n",
      "[1] \"AABD2?\"\n"
     ]
    }
   ],
   "source": [
    "# to do small experiments\n",
    "test=c('A')\n",
    "print(charToRaw(test))               #表达为十六进制数\n",
    "test=c('A','a')\n",
    "print(as.numeric(charToRaw(test)))   #转换十进制（根据ASCII码表）\n",
    "test='z'\n",
    "print(charToRaw(test))\n",
    "test='abc'\n",
    "print(as.numeric(charToRaw(test)))\n",
    "test='aA'\n",
    "print(charToRaw(test))\n",
    "print(as.numeric(charToRaw(test)))\n",
    "print(mode(charToRaw(test)))\n",
    "print(mode(as.numeric(charToRaw(test))))\n",
    "test=c(97,65)\n",
    "print(as.raw(test))\n",
    "print(as.character(as.raw(test)))\n",
    "print(rawToChar(as.raw(test)))\n",
    "print(tolower(\"AaBD2?\"))      #转换小写\n",
    "print(toupper(\"AabD2?\"))      #转换大写"
   ]
  },
  {
   "cell_type": "code",
   "execution_count": 6,
   "metadata": {},
   "outputs": [
    {
     "ename": "ERROR",
     "evalue": "Error in convert(input): 没有\"convert\"这个函数\n",
     "output_type": "error",
     "traceback": [
      "Error in convert(input): 没有\"convert\"这个函数\nTraceback:\n",
      "1. print(convert(input))"
     ]
    }
   ],
   "source": [
    "# to check result\n",
    "print(convert(input))\n",
    "print(convert_ans(input))"
   ]
  },
  {
   "cell_type": "code",
   "execution_count": null,
   "metadata": {},
   "outputs": [],
   "source": [
    "# Possible Answer to Reference\n",
    "convert_ans = function(data){\n",
    "    res = as.numeric(charToRaw(tolower(data))) - 96\n",
    "    res[which((res<1)|(res>26))]=0\n",
    "    return(res)\n",
    "}"
   ]
  },
  {
   "cell_type": "markdown",
   "metadata": {},
   "source": [
    "### 类型\n",
    "\n",
    "研究各种各样的数据类型吧。了解到如何判断数据的类型（有的时候这对调试很重要）。测试使用向量组装这些数据类型之后，合并出的向量的数据类型。\n",
    "\n",
    "#### 基础数据类型\n",
    "\n",
    "- 数字\n",
    "- 字符\n",
    "- 逻辑\n",
    "- 因子\n",
    "- 复数\n",
    "\n",
    "#### 查看数据类型的方法\n",
    "\n",
    "- mode\n",
    "- typeof\n",
    "- class\n"
   ]
  },
  {
   "cell_type": "code",
   "execution_count": 35,
   "metadata": {},
   "outputs": [],
   "source": [
    "num = c(4,82,-3,0.5)            #数字型\n",
    "chr = c('b','95','0.3','hello') #字符型\n",
    "lgl = c(TRUE,FALSE,FALSE,FALSE) #逻辑型\n",
    "fac = c(0,1,2,1)\n",
    "a=complex(real=1,imaginary=1)\n",
    "b=complex(real=0,imaginary=-1)\n",
    "com = c(a,b,0,8)"
   ]
  },
  {
   "cell_type": "code",
   "execution_count": 36,
   "metadata": {},
   "outputs": [
    {
     "data": {
      "text/html": [
       "'numeric'"
      ],
      "text/latex": [
       "'numeric'"
      ],
      "text/markdown": [
       "'numeric'"
      ],
      "text/plain": [
       "[1] \"numeric\""
      ]
     },
     "metadata": {},
     "output_type": "display_data"
    },
    {
     "data": {
      "text/html": [
       "'character'"
      ],
      "text/latex": [
       "'character'"
      ],
      "text/markdown": [
       "'character'"
      ],
      "text/plain": [
       "[1] \"character\""
      ]
     },
     "metadata": {},
     "output_type": "display_data"
    },
    {
     "data": {
      "text/html": [
       "'logical'"
      ],
      "text/latex": [
       "'logical'"
      ],
      "text/markdown": [
       "'logical'"
      ],
      "text/plain": [
       "[1] \"logical\""
      ]
     },
     "metadata": {},
     "output_type": "display_data"
    },
    {
     "data": {
      "text/html": [
       "'numeric'"
      ],
      "text/latex": [
       "'numeric'"
      ],
      "text/markdown": [
       "'numeric'"
      ],
      "text/plain": [
       "[1] \"numeric\""
      ]
     },
     "metadata": {},
     "output_type": "display_data"
    },
    {
     "data": {
      "text/html": [
       "'complex'"
      ],
      "text/latex": [
       "'complex'"
      ],
      "text/markdown": [
       "'complex'"
      ],
      "text/plain": [
       "[1] \"complex\""
      ]
     },
     "metadata": {},
     "output_type": "display_data"
    },
    {
     "data": {
      "text/html": [
       "'character'"
      ],
      "text/latex": [
       "'character'"
      ],
      "text/markdown": [
       "'character'"
      ],
      "text/plain": [
       "[1] \"character\""
      ]
     },
     "metadata": {},
     "output_type": "display_data"
    },
    {
     "data": {
      "text/html": [
       "'character'"
      ],
      "text/latex": [
       "'character'"
      ],
      "text/markdown": [
       "'character'"
      ],
      "text/plain": [
       "[1] \"character\""
      ]
     },
     "metadata": {},
     "output_type": "display_data"
    },
    {
     "data": {
      "text/html": [
       "'character'"
      ],
      "text/latex": [
       "'character'"
      ],
      "text/markdown": [
       "'character'"
      ],
      "text/plain": [
       "[1] \"character\""
      ]
     },
     "metadata": {},
     "output_type": "display_data"
    }
   ],
   "source": [
    "mode(num)   #查看数据类型\n",
    "typeof(chr)\n",
    "class(lgl)\n",
    "mode(fac)\n",
    "mode(com)\n",
    "mode(mode(num))\n",
    "mode(typeof(chr))\n",
    "mode(class(lgl))"
   ]
  },
  {
   "cell_type": "code",
   "execution_count": 37,
   "metadata": {},
   "outputs": [
    {
     "data": {
      "text/html": [
       "TRUE"
      ],
      "text/latex": [
       "TRUE"
      ],
      "text/markdown": [
       "TRUE"
      ],
      "text/plain": [
       "[1] TRUE"
      ]
     },
     "metadata": {},
     "output_type": "display_data"
    },
    {
     "data": {
      "text/html": [
       "FALSE"
      ],
      "text/latex": [
       "FALSE"
      ],
      "text/markdown": [
       "FALSE"
      ],
      "text/plain": [
       "[1] FALSE"
      ]
     },
     "metadata": {},
     "output_type": "display_data"
    },
    {
     "name": "stderr",
     "output_type": "stream",
     "text": [
      "Warning message in eval(expr, envir, enclos):\n",
      "“强制改变过程中产生了NA”\n"
     ]
    },
    {
     "data": {
      "text/html": [
       "<style>\n",
       ".list-inline {list-style: none; margin:0; padding: 0}\n",
       ".list-inline>li {display: inline-block}\n",
       ".list-inline>li:not(:last-child)::after {content: \"\\00b7\"; padding: 0 .5ex}\n",
       "</style>\n",
       "<ol class=list-inline><li>&lt;NA&gt;</li><li>95</li><li>0.3</li><li>&lt;NA&gt;</li></ol>\n"
      ],
      "text/latex": [
       "\\begin{enumerate*}\n",
       "\\item <NA>\n",
       "\\item 95\n",
       "\\item 0.3\n",
       "\\item <NA>\n",
       "\\end{enumerate*}\n"
      ],
      "text/markdown": [
       "1. &lt;NA&gt;\n",
       "2. 95\n",
       "3. 0.3\n",
       "4. &lt;NA&gt;\n",
       "\n",
       "\n"
      ],
      "text/plain": [
       "[1]   NA 95.0  0.3   NA"
      ]
     },
     "metadata": {},
     "output_type": "display_data"
    }
   ],
   "source": [
    "is.numeric(num)   #判断类数据型，是否为数字型\n",
    "is.numeric(chr)\n",
    "as.numeric(chr)   #转换为数字型"
   ]
  },
  {
   "cell_type": "code",
   "execution_count": 38,
   "metadata": {},
   "outputs": [
    {
     "name": "stdout",
     "output_type": "stream",
     "text": [
      "[1] \"numeric\"\n",
      "[1] 0 1 2 1\n",
      "Levels: 0 1 2\n",
      "[1] \"numeric\"\n"
     ]
    }
   ],
   "source": [
    "print(mode(fac))\n",
    "fac=as.factor(fac)  #转换为因子型\n",
    "print(fac)          #print自身后表达为含有哪几个成分\n",
    "print(mode(fac))    #判断时仍表现为数值\n"
   ]
  },
  {
   "cell_type": "code",
   "execution_count": 39,
   "metadata": {},
   "outputs": [
    {
     "name": "stdout",
     "output_type": "stream",
     "text": [
      "[1] \"numeric\"\n",
      "[1] 90  88  95  59  88  90  100\n",
      "Levels: 59 88 90 95 100\n",
      "[1] \"numeric\"\n",
      "[1] \"character\"\n",
      "[1] chris bob   david alice bob   chris emily\n",
      "Levels: alice bob chris david emily\n",
      "[1] \"numeric\"\n"
     ]
    },
    {
     "data": {
      "text/html": [
       "<style>\n",
       ".dl-inline {width: auto; margin:0; padding: 0}\n",
       ".dl-inline>dt, .dl-inline>dd {float: none; width: auto; display: inline-block}\n",
       ".dl-inline>dt::after {content: \":\\0020\"; padding-right: .5ex}\n",
       ".dl-inline>dt:not(:first-of-type) {padding-left: .5ex}\n",
       "</style><dl class=dl-inline><dt>alice</dt><dd>1</dd><dt>bob</dt><dd>2</dd><dt>chris</dt><dd>2</dd><dt>david</dt><dd>1</dd><dt>emily</dt><dd>1</dd></dl>\n"
      ],
      "text/latex": [
       "\\begin{description*}\n",
       "\\item[alice] 1\n",
       "\\item[bob] 2\n",
       "\\item[chris] 2\n",
       "\\item[david] 1\n",
       "\\item[emily] 1\n",
       "\\end{description*}\n"
      ],
      "text/markdown": [
       "alice\n",
       ":   1bob\n",
       ":   2chris\n",
       ":   2david\n",
       ":   1emily\n",
       ":   1\n",
       "\n"
      ],
      "text/plain": [
       "alice   bob chris david emily \n",
       "    1     2     2     1     1 "
      ]
     },
     "metadata": {},
     "output_type": "display_data"
    },
    {
     "name": "stderr",
     "output_type": "stream",
     "text": [
      "Warning message in print(as.numeric(char2)):\n",
      "“强制改变过程中产生了NA”\n"
     ]
    },
    {
     "name": "stdout",
     "output_type": "stream",
     "text": [
      "[1] NA NA NA NA NA NA NA\n",
      "[1] 3 2 4 1 2 3 5\n",
      "[1] 3 2 4 1 2 3 5\n"
     ]
    }
   ],
   "source": [
    "#Understanding factor\n",
    "num2=c(90,88,95,59,88,90,100)\n",
    "print(mode(num2))\n",
    "print(as.factor(num2))\n",
    "print(mode(as.factor(num2)))\n",
    "char2=c('chris','bob','david','alice','bob','chris','emily')\n",
    "print(mode(char2))\n",
    "print(as.factor(char2))\n",
    "print(mode(as.factor(char2)))\n",
    "summary(as.factor(char2))  #判断因子型数据中每个数值出现次数\n",
    "print(as.numeric(char2))\n",
    "print(as.numeric(as.factor(char2)))\n",
    "print(as.numeric(as.factor(num2)))"
   ]
  },
  {
   "cell_type": "code",
   "execution_count": 42,
   "metadata": {},
   "outputs": [
    {
     "name": "stdout",
     "output_type": "stream",
     "text": [
      "[1] 1 0 1\n",
      "[1] 2 1 2\n"
     ]
    }
   ],
   "source": [
    "lgl1=c(TRUE,FALSE,TRUE)\n",
    "num1=as.factor(c(1,0,1))\n",
    "print(as.numeric(lgl1))\n",
    "print(as.numeric(num1)) #因子型值转换为数值时按成员排序显示位次，而非原始值"
   ]
  },
  {
   "cell_type": "code",
   "execution_count": null,
   "metadata": {},
   "outputs": [],
   "source": [
    "#Understanding Factor\n",
    "print(is.factor(as.factor(char2)))\n",
    "print(is.factor(fac))\n",
    "fac2=as.factor(char2)\n",
    "print(mode(fac2)) #To search: why?\n",
    "print(typeof(fac2)) #To search: why?\n",
    "print(class(fac2)) #To search: why?\n",
    "print(is.factor(fac2))\n",
    "print(is.numeric(fac2))\n",
    "fac3=c(1,2,1,2,3)\n",
    "print(mode(fac3))\n",
    "print(is.factor(fac3))\n",
    "fac3=as.factor(fac3)\n",
    "print(mode(fac3))\n",
    "print(is.factor(fac3))"
   ]
  },
  {
   "cell_type": "code",
   "execution_count": 43,
   "metadata": {},
   "outputs": [
    {
     "name": "stdout",
     "output_type": "stream",
     "text": [
      "[1] 1+1i 0-1i 0+0i 8+0i\n",
      "[1] 2+1i 1-1i 1+0i 9+0i\n",
      "[1] 1+3i 0+1i 0+2i 8+2i\n",
      "[1]  2+2i  0-2i  0+0i 16+0i\n",
      "[1] -1+1i  1+0i  0+0i  0+8i\n",
      "[1] 3.5+0i\n",
      "[1] 1\n"
     ]
    },
    {
     "name": "stderr",
     "output_type": "stream",
     "text": [
      "Warning message in print(as.numeric(complex(real = 1, imaginary = 2))):\n",
      "“强制改变时丢弃了虚数部分”\n"
     ]
    },
    {
     "name": "stdout",
     "output_type": "stream",
     "text": [
      "[1] 1\n"
     ]
    }
   ],
   "source": [
    "#Complex 复数\n",
    "print(com)\n",
    "print(com+1)\n",
    "print(com+complex(real=0,imaginary=2))\n",
    "print(com*2)\n",
    "print(com*complex(real=0,imaginary=1))\n",
    "print(as.complex(3.5))\n",
    "print(as.numeric(complex(real=1,imaginary=0)))\n",
    "print(as.numeric(complex(real=1,imaginary=2)))"
   ]
  },
  {
   "cell_type": "code",
   "execution_count": 45,
   "metadata": {},
   "outputs": [
    {
     "name": "stdout",
     "output_type": "stream",
     "text": [
      "[1]  1.0+1i  0.0-1i  0.0+0i  8.0+0i  4.0+0i 82.0+0i -3.0+0i  0.5+0i\n",
      " [1]  1.0+1i  0.0-1i  0.0+0i  8.0+0i  4.0+0i 82.0+0i -3.0+0i  0.5+0i  1.0+0i\n",
      "[10]  2.0+0i  3.0+0i  2.0+0i\n",
      " [1] \"1+1i\"  \"0-1i\"  \"0+0i\"  \"8+0i\"  \"4\"     \"82\"    \"-3\"    \"0.5\"   \"1\"    \n",
      "[10] \"2\"     \"3\"     \"2\"     \"b\"     \"95\"    \"0.3\"   \"hello\"\n",
      " [1] \"1+1i\"   \"0-1i\"   \"0+0i\"   \"8+0i\"   \"4+0i\"   \"82+0i\"  \"-3+0i\"  \"0.5+0i\"\n",
      " [9] \"1+0i\"   \"2+0i\"   \"3+0i\"   \"2+0i\"   \"b\"      \"95\"     \"0.3\"    \"hello\" \n",
      "[1]  TRUE FALSE FALSE FALSE\n",
      "[1]  4.0 82.0 -3.0  0.5\n",
      "[1]  5.0 82.0 -3.0  0.5\n",
      "[1]  1.0  0.0  0.0  0.0  4.0 82.0 -3.0  0.5\n",
      "[1] \"TRUE\"  \"FALSE\" \"FALSE\" \"FALSE\" \"b\"     \"95\"    \"0.3\"   \"hello\"\n",
      "[1] 1+0i 0+0i 0+0i 0+0i 1+1i 0-1i 0+0i 8+0i\n",
      "[1] 2+1i 0-1i 0+0i 8+0i\n"
     ]
    }
   ],
   "source": [
    "#Concatenating 拼接\n",
    "print(c(com,num))  #数值与复数拼接后，全部转换为复数\n",
    "print(c(com,num,fac))    #line folding折行\n",
    "print(c(com,num,fac,chr))\n",
    "print(c(c(com,num,fac),chr)) #与字符拼接后一律转换为字符串\n",
    "print(lgl+num) #进行数值运算加减\n",
    "print(c(lgl,num))\n",
    "print(c(lgl,chr))\n",
    "print(c(lgl,com))\n",
    "print(lgl+com)"
   ]
  },
  {
   "cell_type": "code",
   "execution_count": 47,
   "metadata": {},
   "outputs": [
    {
     "name": "stdout",
     "output_type": "stream",
     "text": [
      "[1]  4 82 -3  0\n",
      "[1]  4.0 82.0 -3.0  0.5\n",
      "[1]  4 82 -3  0\n",
      "[1] \"numeric\"\n",
      "[1] \"integer\"\n",
      "[1] \"integer\"\n",
      "[1] \"numeric\"\n",
      "[1] \"numeric\"\n",
      "[1] \"double\"\n"
     ]
    }
   ],
   "source": [
    "#Integer and Floating \n",
    "print(as.integer(num))\n",
    "print(as.double(num))  #double表示浮点数，带小数点\n",
    "print(as.double(as.integer(num)))\n",
    "integer_num=as.integer(num)\n",
    "double_num=as.double(num)\n",
    "print(mode(integer_num))\n",
    "print(class(integer_num))\n",
    "print(typeof(integer_num))\n",
    "print(mode(double_num))\n",
    "print(class(double_num))\n",
    "print(typeof(double_num))  #R中新建数值数据默认为double型，但无小数时不显示小数点"
   ]
  },
  {
   "cell_type": "markdown",
   "metadata": {},
   "source": [
    "#### 非数字值的产生\n",
    "数据中会出现很多不合法的数值。研究各种这些数值的类型吧。\n",
    "\n",
    "- NaN\n",
    "- NA\n",
    "- Inf\n",
    "- -Inf\n",
    "- NULL"
   ]
  },
  {
   "cell_type": "code",
   "execution_count": 48,
   "metadata": {},
   "outputs": [
    {
     "name": "stdout",
     "output_type": "stream",
     "text": [
      "[1] 3.000000 1.666667      Inf      NaN     -Inf\n"
     ]
    },
    {
     "name": "stderr",
     "output_type": "stream",
     "text": [
      "Warning message in sqrt(a):\n",
      "“产生了NaNs”\n"
     ]
    },
    {
     "name": "stdout",
     "output_type": "stream",
     "text": [
      "[1] 1.732051 2.236068 2.645751 0.000000      NaN\n"
     ]
    },
    {
     "name": "stderr",
     "output_type": "stream",
     "text": [
      "Warning message in print(as.numeric(c)):\n",
      "“强制改变过程中产生了NA”\n"
     ]
    },
    {
     "name": "stdout",
     "output_type": "stream",
     "text": [
      "[1]  1  5 -1 NA NA\n"
     ]
    },
    {
     "name": "stderr",
     "output_type": "stream",
     "text": [
      "Warning message in print(as.complex(c)):\n",
      "“强制改变过程中产生了NA”\n"
     ]
    },
    {
     "name": "stdout",
     "output_type": "stream",
     "text": [
      "[1]  1+0i  5+0i -1+0i    NA    NA\n"
     ]
    },
    {
     "name": "stderr",
     "output_type": "stream",
     "text": [
      "Warning message in print(sqrt(as.complex(c))):\n",
      "“强制改变过程中产生了NA”\n"
     ]
    },
    {
     "name": "stdout",
     "output_type": "stream",
     "text": [
      "[1] 1.000000+0i 2.236068+0i 0.000000+1i          NA          NA\n",
      "[1] 1.732051+0i 2.236068+0i 2.645751+0i 0.000000+0i 0.000000+1i\n",
      "[1] \"g\" \"6\"\n",
      "[1] \"1\"   \"5\"   \"-1\"  \"3+i\" \"nxz\" \"g\"   \"6\"  \n",
      "[1] \"g\" \"6\" \"3\"\n",
      "[1] \"NULL\"\n",
      "[1] \"NULL\"\n",
      "[1] \"NULL\"\n",
      "[1] \"numeric\"\n"
     ]
    }
   ],
   "source": [
    "a = c(3,5,7,0,-1)\n",
    "b = c(1,3,0,0,0)\n",
    "print(a/b)\n",
    "print(sqrt(a))\n",
    "c = c('1','5','-1','3+i','nxz')\n",
    "print(as.numeric(c))\n",
    "print(as.complex(c))\n",
    "print(sqrt(as.complex(c)))\n",
    "print(sqrt(as.complex(a)))\n",
    "d = c('g',6,NULL)\n",
    "print(d)\n",
    "print(c(c,d))\n",
    "e = c(NULL,3)\n",
    "print(c(d,e))\n",
    "f = NULL\n",
    "print(mode(f))\n",
    "print(class(f))\n",
    "print(typeof(f))\n",
    "g = NaN\n",
    "print(mode(g))"
   ]
  },
  {
   "cell_type": "markdown",
   "metadata": {},
   "source": [
    "### 向量操作（2）：筛选\n",
    "可以很容易地对向量进行简单的筛选。试着使用各种条件来筛选吧。\n",
    "\n",
    "- \\[\\]\n",
    "- subset\n",
    "- which"
   ]
  },
  {
   "cell_type": "code",
   "execution_count": 55,
   "metadata": {},
   "outputs": [
    {
     "name": "stdout",
     "output_type": "stream",
     "text": [
      "[1] \"c\" \"b\"\n",
      "[1] \"c\" \"a\"\n",
      "[1] \"c\" \"b\"\n"
     ]
    }
   ],
   "source": [
    "datachar=c('c','a','b')\n",
    "refchar=c(TRUE,FALSE,TRUE)\n",
    "print(datachar[refchar])    #运用[]+逻辑型数据筛选数组元素\n",
    "print(datachar[1:2])\n",
    "print(datachar[c(1,3)])"
   ]
  },
  {
   "cell_type": "code",
   "execution_count": 54,
   "metadata": {},
   "outputs": [
    {
     "name": "stdout",
     "output_type": "stream",
     "text": [
      "[1] 10  9  8  7  6  5  4\n",
      "[1] 1 2 3 4 5 6 7\n",
      "[1] 10  9  8  7  6  5  4\n",
      " [1]  TRUE  TRUE  TRUE  TRUE  TRUE  TRUE  TRUE FALSE FALSE FALSE\n",
      " [1]  TRUE  TRUE  TRUE FALSE FALSE FALSE FALSE FALSE FALSE FALSE\n",
      "[1] 10  9  8\n"
     ]
    },
    {
     "name": "stderr",
     "output_type": "stream",
     "text": [
      "Warning message in eval(expr, envir, enclos):\n",
      "“强制改变过程中产生了NA”\n"
     ]
    },
    {
     "name": "stdout",
     "output_type": "stream",
     "text": [
      "[1] 1.3  NA 3.0\n",
      "[1] 3\n",
      "[1] NA  3\n",
      "[1] 3\n"
     ]
    }
   ],
   "source": [
    "data = c(10,9,8,7,6,5,4,3,2,1)\n",
    "print(data[data>3])\n",
    "print(which(data>3))   #which函数返回data中>3的位置下标（数值类型数据）\n",
    "print(data[which(data>3)])\n",
    "print(data>3)\n",
    "ref = c(1,3,5,7,9,11,13,15,17,19)\n",
    "print(data>ref)\n",
    "print(data[which(data>ref)])\n",
    "data2=as.numeric(c('1.3','b','3'))\n",
    "print(data2)\n",
    "print(data2[which(data2>1.5)])  #which仅筛选完全符合条件的位置下标\n",
    "print(data2[data2>1.5])         #运用逻辑型筛选数值时，仅FALSE处剔除，保留NA\n",
    "print(subset(data2,data2>1.5))  "
   ]
  },
  {
   "cell_type": "code",
   "execution_count": null,
   "metadata": {},
   "outputs": [],
   "source": [
    "#Different usages\n",
    "ref = c(2,9,7)\n",
    "print(data[ref])\n",
    "ref = c(rep(FALSE,3),rep(TRUE,6),FALSE)\n",
    "print(data[ref])\n",
    "ref = c(1,0,1,0,1,0,1,0,1,1)\n",
    "print(data[ref])\n",
    "print(data[which(ref==1)])\n",
    "print(data[as.logical(ref)])\n",
    "ref = c(1,2,3)\n",
    "print(data[ref<3])        #逻辑型筛选存在循环补齐现象\n",
    "print(data[which(ref<3)]) #仅运用指定下标位置筛选\n",
    "print(data[which(data%%2==0)])\n",
    "print(data[which(data*data>15)])\n",
    "print(data[sort(which(data*data>15),decreasing=TRUE)])\n",
    "print(data[which(rank(data)<3)])"
   ]
  },
  {
   "cell_type": "markdown",
   "metadata": {},
   "source": [
    "### 字符串操作（1）：大小写，截取子串，ASCII码\n",
    "\n",
    "尝试使用以下函数进行大小写转换\n",
    "\n",
    "- tolower()\n",
    "- toupper()\n",
    "\n",
    "使用以下函数可以获得字符串长度\n",
    "\n",
    "- nchar()\n",
    "\n",
    "\n",
    "使用以下函数可以进行子串的截取\n",
    "\n",
    "- substr()\n",
    "\n",
    "使用以下函数将字符串转换成ASCII码的十六进制表示\n",
    "\n",
    "- charToRaw()\n",
    "\n",
    "将十进制表示的ASCII码转换成字符串\n",
    "\n",
    "- rawToChar(as.raw())\n"
   ]
  },
  {
   "cell_type": "code",
   "execution_count": 49,
   "metadata": {},
   "outputs": [
    {
     "name": "stdout",
     "output_type": "stream",
     "text": [
      "[1] \"hello world! 3 plus 5 = eight.\"\n",
      "[1] \"HELLO WORLD! 3 PLUS 5 = EIGHT.\"\n",
      "[1] 30\n",
      "[1] 1\n",
      "[1] 2\n",
      "[1] 30 11\n",
      "[1] \"Hello\"\n",
      "[1] \"\"\n",
      "[1] \"\"\n",
      "[1] \"Hel\"\n",
      "[1] \"llo World! 3 plus 5 = Eight.\"\n",
      "[1] \"llo World! 3 plus 5 = Eight.\"\n",
      " [1] 48 65 6c 6c 6f 20 57 6f 72 6c 64 21 20 33 20 70 6c 75 73 20 35 20 3d 20 45\n",
      "[26] 69 67 68 74 2e\n",
      "[1] \"raw\"\n",
      " [1]  72 101 108 108 111  32  87 111 114 108 100  33  32  51  32 112 108 117 115\n",
      "[20]  32  53  32  61  32  69 105 103 104 116  46\n",
      " [1] 48 65 6c 6c 6f 20 57 6f 72 6c 64 21 20 33 20 70 6c 75 73 20 35 20 3d 20 45\n",
      "[26] 69 67 68 74 2e\n",
      "[1] \"Hello World! 3 plus 5 = Eight.\"\n"
     ]
    }
   ],
   "source": [
    "chr=\"Hello World! 3 plus 5 = Eight.\"\n",
    "print(tolower(chr))\n",
    "print(toupper(chr))\n",
    "print(nchar(chr))\n",
    "print(length(chr))\n",
    "print(length(c(chr,'hello world')))   #length返回向量内元素数量\n",
    "print(nchar(c(chr,'hello world')))    #nchar返回字符串长度\n",
    "print(substr(chr,1,5))\n",
    "print(substr(chr,-1,-2))\n",
    "print(substr(chr,5,1))\n",
    "print(substr(chr,-1,3))\n",
    "print(substr(chr,3,100))\n",
    "print(substring(chr,3)) #Check this\n",
    "print(charToRaw(chr))\n",
    "print(mode(charToRaw(chr)))\n",
    "print(as.numeric(charToRaw(chr)))\n",
    "print(as.raw(as.numeric(charToRaw(chr))))\n",
    "print(rawToChar(as.raw(as.numeric(charToRaw(chr)))))"
   ]
  },
  {
   "cell_type": "markdown",
   "metadata": {},
   "source": [
    "### 练习题1\n",
    "\n",
    "完成函数clean=function(data)，输入一个numeric类型的向量并保证全是整数，返回一个向量，返回值中去掉输入中的'NA'，将'NaN'改为0，将'Inf'改为输入数据中正常数据中最大的那个数加上65536的值，将‘-Inf’改为输入数据中正常数据中最小的那个数减去65536的值。返回值的向量长度可能和输入的向量不同，但要求留存的数据的顺序不变。"
   ]
  },
  {
   "cell_type": "code",
   "execution_count": 51,
   "metadata": {},
   "outputs": [],
   "source": [
    "# sample input\n",
    "input = c(1,3,NA,-2,9,Inf,199,NaN,2,9,-Inf,NA,-8)\n",
    "# sample output\n",
    "output = c(1,3,-2,9,65735,0,2,9,-65544,-8)"
   ]
  },
  {
   "cell_type": "code",
   "execution_count": 83,
   "metadata": {},
   "outputs": [
    {
     "data": {
      "text/html": [
       "<style>\n",
       ".list-inline {list-style: none; margin:0; padding: 0}\n",
       ".list-inline>li {display: inline-block}\n",
       ".list-inline>li:not(:last-child)::after {content: \"\\00b7\"; padding: 0 .5ex}\n",
       "</style>\n",
       "<ol class=list-inline><li>1</li><li>3</li><li>-2</li><li>9</li><li>65735</li><li>199</li><li>0</li><li>2</li><li>9</li><li>-65544</li><li>-8</li></ol>\n"
      ],
      "text/latex": [
       "\\begin{enumerate*}\n",
       "\\item 1\n",
       "\\item 3\n",
       "\\item -2\n",
       "\\item 9\n",
       "\\item 65735\n",
       "\\item 199\n",
       "\\item 0\n",
       "\\item 2\n",
       "\\item 9\n",
       "\\item -65544\n",
       "\\item -8\n",
       "\\end{enumerate*}\n"
      ],
      "text/markdown": [
       "1. 1\n",
       "2. 3\n",
       "3. -2\n",
       "4. 9\n",
       "5. 65735\n",
       "6. 199\n",
       "7. 0\n",
       "8. 2\n",
       "9. 9\n",
       "10. -65544\n",
       "11. -8\n",
       "\n",
       "\n"
      ],
      "text/plain": [
       " [1]      1      3     -2      9  65735    199      0      2      9 -65544\n",
       "[11]     -8"
      ]
     },
     "metadata": {},
     "output_type": "display_data"
    }
   ],
   "source": [
    "#interface ( please complete the function )\n",
    "clean=function(data){\n",
    "    \n",
    "    res = NULL\n",
    "    min = NULL\n",
    "    max = NULL\n",
    "    # to code here and assign the return value to res\n",
    "    input[is.nan(input)]=0     #将NaN改为0\n",
    "    res = input[which(is.na(input)==FALSE)]  #去除NA缺失值\n",
    "    res[which(res==-Inf)] = res[which(rank(input)==1)]-65536\n",
    "    res[which(res== Inf)] = min = res[which(rank(input,na.last=FALSE)==length(input))]+65536\n",
    "    \n",
    "    return(res)\n",
    "}"
   ]
  },
  {
   "cell_type": "code",
   "execution_count": 75,
   "metadata": {},
   "outputs": [
    {
     "data": {
      "text/html": [
       "11"
      ],
      "text/latex": [
       "11"
      ],
      "text/markdown": [
       "11"
      ],
      "text/plain": [
       "[1] 11"
      ]
     },
     "metadata": {},
     "output_type": "display_data"
    }
   ],
   "source": [
    "# to do small experiments'\n",
    "which(input==-Inf)"
   ]
  },
  {
   "cell_type": "code",
   "execution_count": 84,
   "metadata": {},
   "outputs": [
    {
     "name": "stdout",
     "output_type": "stream",
     "text": [
      " [1]      1      3     -2      9  65735    199      0      2      9 -65544\n",
      "[11]     -8\n"
     ]
    }
   ],
   "source": [
    "# to check result\n",
    "print(clean(input))"
   ]
  },
  {
   "cell_type": "markdown",
   "metadata": {},
   "source": [
    "### 练习题2\n",
    "\n",
    "完成函数strhash=function(string)，输入一个字符串，输出一个非负整数作为这个字符串的“验证密钥”。字符串的验证密钥的值由以下函数迭代定义：\n",
    "- strhash(\"\")=0\n",
    "- strhash(paste(s,chr))=(strhash(s) + 1) x (ASCII(chr) + 1） %% 65536"
   ]
  },
  {
   "cell_type": "code",
   "execution_count": 1,
   "metadata": {},
   "outputs": [],
   "source": [
    "# sample input\n",
    "input = \"Hello World!\"\n",
    "# sample output\n",
    "output = 16788"
   ]
  },
  {
   "cell_type": "code",
   "execution_count": 48,
   "metadata": {},
   "outputs": [],
   "source": [
    "#interface ( please complete the function )\n",
    "strhash=function(string){\n",
    "    res = NULL\n",
    "    a = NULL\n",
    "    n = NULL\n",
    "    # to code here and assign the return value to res\n",
    "    res = 0\n",
    "    n = nchar(string)\n",
    "    a = as.numeric(charToRaw(string))\n",
    "    if (n==0){\n",
    "        res = 0\n",
    "    }else{\n",
    "    for (i in 1:n){\n",
    "       res = ((res + 1)*(a[i]+1))%% 65536\n",
    "    }\n",
    "    }\n",
    "    return(res)\n",
    "}"
   ]
  },
  {
   "cell_type": "code",
   "execution_count": null,
   "metadata": {},
   "outputs": [],
   "source": [
    "# to do small experiments"
   ]
  },
  {
   "cell_type": "code",
   "execution_count": 49,
   "metadata": {},
   "outputs": [
    {
     "data": {
      "text/html": [
       "0"
      ],
      "text/latex": [
       "0"
      ],
      "text/markdown": [
       "0"
      ],
      "text/plain": [
       "[1] 0"
      ]
     },
     "metadata": {},
     "output_type": "display_data"
    },
    {
     "name": "stdout",
     "output_type": "stream",
     "text": [
      "[1] 0\n"
     ]
    }
   ],
   "source": [
    "# to check result\n",
    "nchar(\"\")\n",
    "print(strhash(\"\"))"
   ]
  },
  {
   "cell_type": "code",
   "execution_count": null,
   "metadata": {},
   "outputs": [],
   "source": []
  }
 ],
 "metadata": {
  "kernelspec": {
   "display_name": "R",
   "language": "R",
   "name": "ir"
  },
  "language_info": {
   "codemirror_mode": "r",
   "file_extension": ".r",
   "mimetype": "text/x-r-source",
   "name": "R",
   "pygments_lexer": "r",
   "version": "4.0.3"
  }
 },
 "nbformat": 4,
 "nbformat_minor": 2
}
