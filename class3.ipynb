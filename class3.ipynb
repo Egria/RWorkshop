{
 "cells": [
  {
   "cell_type": "markdown",
   "metadata": {},
   "source": [
    "## 第三课\n",
    "\n",
    "#### 牛行知\n",
    "#### 2020年10月25日\n",
    "\n",
    "### 类型，向量操作（2），字符串操作（1）"
   ]
  },
  {
   "cell_type": "markdown",
   "metadata": {},
   "source": [
    "### 复习题\n",
    "\n",
    "完成函数convert=function(data)，输入一个字符串，输出一个正整数构成的向量，令输入中的'A’、'a'对应位置转为1，'B'、'b'转为2，以此类推。不是英文字符的，转换成0.\n",
    "\n",
    "- 提示：参考函数charToRaw()"
   ]
  },
  {
   "cell_type": "code",
   "execution_count": null,
   "metadata": {},
   "outputs": [],
   "source": [
    "# sample input\n",
    "input = c('aDkBHO3#0z+89}_HA')\n",
    "# sample output\n",
    "output = c(1,4,11,2,8,15,0,0,0,26,0,0,0,0,0,8,1)"
   ]
  },
  {
   "cell_type": "code",
   "execution_count": null,
   "metadata": {},
   "outputs": [],
   "source": [
    "#interface ( please complete the function )\n",
    "convert=function(data){\n",
    "    \n",
    "    res = NULL\n",
    "    # to code here and assign the return value to res\n",
    "\n",
    "    return(res)\n",
    "}"
   ]
  },
  {
   "cell_type": "code",
   "execution_count": null,
   "metadata": {},
   "outputs": [],
   "source": [
    "# to do small experiments\n",
    "test=c('a')\n",
    "print(charToRaw(test))\n",
    "test=c('a','b')\n",
    "print(as.numeric(charToRaw(test)))\n",
    "test='z'\n",
    "print(charToRaw(test))\n",
    "test='abc'\n",
    "print(as.numeric(charToRaw(test)))\n",
    "test='aA'\n",
    "print(charToRaw(test))\n",
    "print(as.numeric(charToRaw(test)))\n",
    "print(mode(charToRaw(test)))\n",
    "print(mode(as.numeric(charToRaw(test))))\n",
    "test=c(97,65)\n",
    "print(as.raw(test))\n",
    "print(as.character(as.raw(test)))\n",
    "print(rawToChar(as.raw(test)))\n",
    "print(tolower(\"AaBD2?\"))"
   ]
  },
  {
   "cell_type": "code",
   "execution_count": null,
   "metadata": {},
   "outputs": [],
   "source": [
    "# to check result\n",
    "print(convert(input))\n",
    "print(convert_ans(input))"
   ]
  },
  {
   "cell_type": "code",
   "execution_count": null,
   "metadata": {},
   "outputs": [],
   "source": [
    "# Possible Answer to Reference\n",
    "convert_ans = function(data){\n",
    "    res = as.numeric(charToRaw(tolower(data))) - 96\n",
    "    res[which((res<1)|(res>26))]=0\n",
    "    return(res)\n",
    "}"
   ]
  },
  {
   "cell_type": "code",
   "execution_count": null,
   "metadata": {},
   "outputs": [],
   "source": [
    "# Notes"
   ]
  },
  {
   "cell_type": "markdown",
   "metadata": {},
   "source": [
    "### 类型\n",
    "\n",
    "研究各种各样的数据类型吧。了解到如何判断数据的类型（有的时候这对调试很重要）。测试使用向量组装这些数据类型之后，合并出的向量的数据类型。\n",
    "\n",
    "#### 基础数据类型\n",
    "\n",
    "- 数字\n",
    "- 字符\n",
    "- 逻辑\n",
    "- 因子\n",
    "- 复数\n",
    "\n",
    "#### 查看数据类型的方法\n",
    "\n",
    "- mode\n",
    "- typeof\n",
    "- class\n"
   ]
  },
  {
   "cell_type": "code",
   "execution_count": null,
   "metadata": {},
   "outputs": [],
   "source": [
    "num = c(4,82,-3,0.5)\n",
    "chr = c('b','95','0.3','hello')\n",
    "lgl = c(TRUE,FALSE,FALSE,FALSE)\n",
    "fac = c(0,1,2,1)\n",
    "a=complex(real=1,imaginary=1)\n",
    "b=complex(real=0,imaginary=-1)\n",
    "com = c(a,b,0,8)"
   ]
  },
  {
   "cell_type": "code",
   "execution_count": null,
   "metadata": {},
   "outputs": [],
   "source": [
    "mode(num)\n",
    "typeof(chr)\n",
    "class(lgl)\n",
    "mode(fac)\n",
    "mode(com)\n",
    "mode(mode(num))\n",
    "mode(typeof(chr))\n",
    "mode(class(lgl))"
   ]
  },
  {
   "cell_type": "code",
   "execution_count": null,
   "metadata": {},
   "outputs": [],
   "source": [
    "print(mode(fac))\n",
    "fac=as.factor(fac)\n",
    "print(fac)\n",
    "print(mode(fac))\n"
   ]
  },
  {
   "cell_type": "code",
   "execution_count": null,
   "metadata": {},
   "outputs": [],
   "source": [
    "#Understanding factor\n",
    "num2=c(90,88,95,59,88,90,100)\n",
    "print(mode(num2))\n",
    "print(as.factor(num2))\n",
    "print(mode(as.factor(num2)))\n",
    "char2=c('chris','bob','david','alice','bob','chris','emily')\n",
    "print(mode(char2))\n",
    "print(as.factor(char2))\n",
    "print(mode(as.factor(char2)))\n",
    "summary(as.factor(char2))\n",
    "print(as.numeric(char2))\n",
    "print(as.numeric(as.factor(char2)))\n",
    "print(as.numeric(as.factor(num2)))"
   ]
  },
  {
   "cell_type": "code",
   "execution_count": null,
   "metadata": {},
   "outputs": [],
   "source": [
    "#Understanding Factor\n",
    "print(is.factor(as.factor(char2)))\n",
    "print(is.factor(fac))\n",
    "fac2=as.factor(char2)\n",
    "print(mode(fac2)) #To search: why?\n",
    "print(typeof(fac2)) #To search: why?\n",
    "print(class(fac2)) #To search: why?\n",
    "print(is.factor(fac2))\n",
    "print(is.numeric(fac2))\n",
    "fac3=c(1,2,1,2,3)\n",
    "print(mode(fac3))\n",
    "print(is.factor(fac3))\n",
    "fac3=as.factor(fac3)\n",
    "print(mode(fac3))\n",
    "print(is.factor(fac3))"
   ]
  },
  {
   "cell_type": "code",
   "execution_count": null,
   "metadata": {},
   "outputs": [],
   "source": [
    "#Complex\n",
    "print(com)\n",
    "print(com+1)\n",
    "print(com+complex(real=0,imaginary=2))\n",
    "print(com*2)\n",
    "print(com*complex(real=0,imaginary=1))\n",
    "print(as.complex(3.5))\n",
    "print(as.numeric(complex(real=1,imaginary=0)))\n",
    "print(as.numeric(complex(real=1,imaginary=2)))"
   ]
  },
  {
   "cell_type": "code",
   "execution_count": null,
   "metadata": {},
   "outputs": [],
   "source": [
    "#Concatenating\n",
    "print(c(com,num))\n",
    "print(c(com,num,fac)) #line folding\n",
    "print(c(com,num,fac,chr))\n",
    "print(c(c(com,num,fac),chr))\n",
    "print(lgl+num)\n",
    "print(c(lgl,num))\n",
    "print(c(lgl,chr))\n",
    "print(c(lgl,com))\n",
    "print(lgl+com)"
   ]
  },
  {
   "cell_type": "code",
   "execution_count": null,
   "metadata": {},
   "outputs": [],
   "source": [
    "#Integer and Floating \n",
    "print(as.integer(num))\n",
    "print(as.double(num))\n",
    "integer_num=as.integer(num)\n",
    "double_num=as.double(num)\n",
    "print(mode(integer_num))\n",
    "print(class(integer_num))\n",
    "print(typeof(integer_num))\n",
    "print(mode(double_num))\n",
    "print(class(double_num))\n",
    "print(typeof(double_num))"
   ]
  },
  {
   "cell_type": "markdown",
   "metadata": {},
   "source": [
    "#### 非数字值的产生\n",
    "数据中会出现很多不合法的数值。研究各种这些数值的类型吧。\n",
    "\n",
    "- NaN\n",
    "- NA\n",
    "- Inf\n",
    "- -Inf\n",
    "- NULL"
   ]
  },
  {
   "cell_type": "code",
   "execution_count": null,
   "metadata": {},
   "outputs": [],
   "source": [
    "a = c(3,5,7,0,-1)\n",
    "b = c(1,3,0,0,0)\n",
    "print(a/b)\n",
    "print(sqrt(a))\n",
    "c = c('1','5','-1','3+i','nxz')\n",
    "print(as.numeric(c))\n",
    "print(as.complex(c))\n",
    "print(sqrt(as.complex(c)))\n",
    "print(sqrt(as.complex(a)))\n",
    "d = c('g',6,NULL)\n",
    "print(d)\n",
    "print(c(c,d))\n",
    "e = c(NULL,3)\n",
    "print(c(d,e))\n",
    "f = NULL\n",
    "print(mode(f))\n",
    "print(class(f))\n",
    "print(typeof(f))\n",
    "g = NaN\n",
    "print(mode(g))"
   ]
  },
  {
   "cell_type": "markdown",
   "metadata": {},
   "source": [
    "### 向量操作（2）：筛选\n",
    "可以很容易地对向量进行简单的筛选。试着使用各种条件来筛选吧。\n",
    "\n",
    "- \\[\\]\n",
    "- subset\n",
    "- which"
   ]
  },
  {
   "cell_type": "code",
   "execution_count": null,
   "metadata": {},
   "outputs": [],
   "source": [
    "data = c(10,9,8,7,6,5,4,3,2,1)\n",
    "print(data[data>3])\n",
    "print(which(data>3))\n",
    "print(data[which(data>3)])\n",
    "print(data>3)\n",
    "ref = c(1,3,5,7,9,11,13,15,17,19)\n",
    "print(data>ref)\n",
    "print(data[which(data>ref)])\n",
    "data2=as.numeric(c('1.3','b','3'))\n",
    "print(data2)\n",
    "print(data2[which(data2>1.5)])\n",
    "print(data2[data2>1.5])\n",
    "print(subset(data2,data2>1.5))"
   ]
  },
  {
   "cell_type": "code",
   "execution_count": null,
   "metadata": {},
   "outputs": [],
   "source": [
    "#Different usages\n",
    "ref = c(2,9,7)\n",
    "print(data[ref])\n",
    "ref = c(rep(FALSE,3),rep(TRUE,6),FALSE)\n",
    "print(data[ref])\n",
    "ref = c(1,0,1,0,1,0,1,0,1,1)\n",
    "print(data[ref])\n",
    "print(data[which(ref==1)])\n",
    "print(data[as.logical(ref)])\n",
    "ref = c(1,2,3)\n",
    "print(data[ref<3])\n",
    "print(data[which(ref<3)]) #why?\n",
    "print(data[which(data%%2==0)])\n",
    "print(data[which(data*data>15)])\n",
    "print(data[sort(which(data*data>15),decreasing=TRUE)])\n",
    "print(data[which(rank(data)<3)])"
   ]
  },
  {
   "cell_type": "markdown",
   "metadata": {},
   "source": [
    "### 字符串操作（1）：大小写，截取子串，ASCII码\n",
    "\n",
    "尝试使用以下函数进行大小写转换\n",
    "\n",
    "- tolower()\n",
    "- toupper()\n",
    "\n",
    "使用以下函数可以获得字符串长度\n",
    "\n",
    "- nchar()\n",
    "\n",
    "\n",
    "使用以下函数可以进行子串的截取\n",
    "\n",
    "- substr()\n",
    "\n",
    "使用以下函数将字符串转换成ASCII码的十六进制表示\n",
    "\n",
    "- charToRaw()\n",
    "\n",
    "将十进制表示的ASCII码转换成字符串\n",
    "\n",
    "- rawToChar(as.raw())\n"
   ]
  },
  {
   "cell_type": "code",
   "execution_count": null,
   "metadata": {},
   "outputs": [],
   "source": [
    "chr=\"Hello World! 3 plus 5 = Eight.\"\n",
    "print(tolower(chr))\n",
    "print(toupper(chr))\n",
    "print(nchar(chr))\n",
    "print(length(chr))\n",
    "print(length(c(chr,'hello world')))\n",
    "print(nchar(c(chr,'hello world')))\n",
    "print(substr(chr,1,5))\n",
    "print(substr(chr,-1,-2))\n",
    "print(substr(chr,5,1))\n",
    "print(substr(chr,-1,3))\n",
    "print(substr(chr,3,100))\n",
    "print(substring(chr,3)) #Check this\n",
    "print(charToRaw(chr))\n",
    "print(mode(charToRaw(chr)))\n",
    "print(as.numeric(charToRaw(chr)))\n",
    "print(as.raw(as.numeric(charToRaw(chr))))\n",
    "print(rawToChar(as.raw(as.numeric(charToRaw(chr)))))"
   ]
  },
  {
   "cell_type": "markdown",
   "metadata": {},
   "source": [
    "### 练习题1\n",
    "\n",
    "完成函数clean=function(data)，输入一个numeric类型的向量并保证全是整数，返回一个向量，返回值中去掉输入中的'NA'，将'NaN'改为0，将'Inf'改为输入数据中正常数据中最大的那个数加上65536的值，将‘-Inf’改为输入数据中正常数据中最小的那个数减去65536的值。返回值的向量长度可能和输入的向量不同，但要求留存的数据的顺序不变。"
   ]
  },
  {
   "cell_type": "code",
   "execution_count": null,
   "metadata": {},
   "outputs": [],
   "source": [
    "# sample input\n",
    "input = c(1,3,NA,-2,9,Inf,199,NaN,2,9,-Inf,NA,-8)\n",
    "# sample output\n",
    "output = c(1,3,-2,9,65735,0,2,9,-65544,-8)"
   ]
  },
  {
   "cell_type": "code",
   "execution_count": null,
   "metadata": {},
   "outputs": [],
   "source": [
    "#interface ( please complete the function )\n",
    "clean=function(data){\n",
    "    \n",
    "    res = NULL\n",
    "    # to code here and assign the return value to res\n",
    "\n",
    "    return(res)\n",
    "}"
   ]
  },
  {
   "cell_type": "code",
   "execution_count": null,
   "metadata": {},
   "outputs": [],
   "source": [
    "# to do small experiments"
   ]
  },
  {
   "cell_type": "code",
   "execution_count": null,
   "metadata": {},
   "outputs": [],
   "source": [
    "# to check result\n",
    "print(clean(input))"
   ]
  },
  {
   "cell_type": "markdown",
   "metadata": {},
   "source": [
    "### 练习题2\n",
    "\n",
    "完成函数strhash=function(string)，输入一个字符串，输出一个非负整数作为这个字符串的“验证密钥”。字符串的验证密钥的值由以下函数迭代定义：\n",
    "- strhash(\"\")=0\n",
    "- strhash(paste(s,chr))=(strhash(s) + 1) x (ASCII(chr) + 1） %% 65536"
   ]
  },
  {
   "cell_type": "code",
   "execution_count": null,
   "metadata": {},
   "outputs": [],
   "source": [
    "# sample input\n",
    "input = \"Hello World!\"\n",
    "# sample output\n",
    "output = 16788"
   ]
  },
  {
   "cell_type": "code",
   "execution_count": null,
   "metadata": {},
   "outputs": [],
   "source": [
    "#interface ( please complete the function )\n",
    "strhash=function(string){\n",
    "    res = NULL\n",
    "    # to code here and assign the return value to res\n",
    "\n",
    "    return(res)\n",
    "}"
   ]
  },
  {
   "cell_type": "code",
   "execution_count": null,
   "metadata": {},
   "outputs": [],
   "source": [
    "# to do small experiments"
   ]
  },
  {
   "cell_type": "code",
   "execution_count": null,
   "metadata": {},
   "outputs": [],
   "source": [
    "# to check result\n",
    "print(strhash(input))"
   ]
  },
  {
   "cell_type": "code",
   "execution_count": null,
   "metadata": {},
   "outputs": [],
   "source": []
  }
 ],
 "metadata": {
  "kernelspec": {
   "display_name": "R",
   "language": "R",
   "name": "ir"
  },
  "language_info": {
   "codemirror_mode": "r",
   "file_extension": ".r",
   "mimetype": "text/x-r-source",
   "name": "R",
   "pygments_lexer": "r",
   "version": "3.5.2"
  }
 },
 "nbformat": 4,
 "nbformat_minor": 2
}
