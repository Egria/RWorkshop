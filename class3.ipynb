{
 "cells": [
  {
   "cell_type": "markdown",
   "metadata": {},
   "source": [
    "## 第三课\n",
    "\n",
    "#### 牛行知\n",
    "#### 2020年10月25日\n",
    "\n",
    "### 类型，向量操作（2），字符串操作（1）"
   ]
  },
  {
   "cell_type": "markdown",
   "metadata": {},
   "source": [
    "### 复习题\n",
    "\n",
    "完成函数convert=function(data)，输入一个字符串，输出一个正整数和0构成的向量，令输入中的'A’、'a'对应位置转为1，'B'、'b'转为2，以此类推。不是英文字符的，转换成0.\n",
    "\n",
    "- 提示：参考函数charToRaw()"
   ]
  },
  {
   "cell_type": "code",
   "execution_count": 1,
   "metadata": {},
   "outputs": [],
   "source": [
    "# sample input\n",
    "input = c('aDkBHO3#0z+89}_HA')\n",
    "# sample output\n",
    "output = c(1,4,11,2,8,15,0,0,0,26,0,0,0,0,0,8,1)"
   ]
  },
  {
   "cell_type": "code",
   "execution_count": 21,
   "metadata": {},
   "outputs": [],
   "source": [
    "#interface ( please complete the function )\n",
    "convert=function(data){\n",
    "    \n",
    "    res = NULL\n",
    "    n=nchar(data)\n",
    "    for (i in 1:n){\n",
    "        if (substr(data,i,i)<\"A\" | substr(data,i,i)>\"z\"){\n",
    "            res=c(res,0)\n",
    "        }else{\n",
    "            m=as.numeric(charToRaw(tolower(substr(data,i,i))))\n",
    "            m=m-96\n",
    "            #print(m)\n",
    "            res=c(res,m)\n",
    "        }\n",
    "    }\n",
    "    # to code here and assign the return value to res\n",
    "\n",
    "    return(res)\n",
    "}"
   ]
  },
  {
   "cell_type": "code",
   "execution_count": 39,
   "metadata": {},
   "outputs": [
    {
     "name": "stdout",
     "output_type": "stream",
     "text": [
      " [1]  0  4 11  2  8 15  0  0  0 26  0  0  0  0  0  8  1\n"
     ]
    }
   ],
   "source": [
    "?Comparison\n",
    "print(convert(input))"
   ]
  },
  {
   "cell_type": "code",
   "execution_count": 3,
   "metadata": {},
   "outputs": [
    {
     "name": "stdout",
     "output_type": "stream",
     "text": [
      "[1] 61\n"
     ]
    },
    {
     "name": "stderr",
     "output_type": "stream",
     "text": [
      "Warning message in charToRaw(test):\n",
      "\"参数应该是长度为一的字符矢量，因此只能用其第一元素\""
     ]
    },
    {
     "name": "stdout",
     "output_type": "stream",
     "text": [
      "[1] 97\n",
      "[1] 7a\n",
      "[1] 97 98 99\n",
      "[1] 61 41\n",
      "[1] 97 65\n",
      "[1] \"raw\"\n",
      "[1] \"numeric\"\n",
      "[1] 61 41\n",
      "[1] \"61\" \"41\"\n",
      "[1] \"aA\"\n",
      "[1] \"aabd2?\"\n",
      "[1] \"AABD2?\"\n"
     ]
    }
   ],
   "source": [
    "# to do small experiments\n",
    "test=c('a')\n",
    "print(charToRaw(test))\n",
    "test=c('a','b')\n",
    "print(as.numeric(charToRaw(test)))\n",
    "test='z'\n",
    "print(charToRaw(test))\n",
    "test='abc'\n",
    "print(as.numeric(charToRaw(test)))\n",
    "test='aA'\n",
    "print(charToRaw(test))\n",
    "print(as.numeric(charToRaw(test)))\n",
    "print(mode(charToRaw(test)))\n",
    "print(mode(as.numeric(charToRaw(test))))\n",
    "test=c(97,65)\n",
    "print(as.raw(test))\n",
    "print(as.character(as.raw(test)))\n",
    "print(rawToChar(as.raw(test)))\n",
    "print(tolower(\"AaBD2?\"))\n",
    "print(toupper(\"AabD2?\"))"
   ]
  },
  {
   "cell_type": "code",
   "execution_count": 8,
   "metadata": {},
   "outputs": [
    {
     "name": "stdout",
     "output_type": "stream",
     "text": [
      "NULL\n",
      " [1]  1  4 11  2  8 15  0  0  0 26  0  0  0  0  0  8  1\n"
     ]
    }
   ],
   "source": [
    "# to check result\n",
    "print(convert(input))\n",
    "print(convert_ans(input))"
   ]
  },
  {
   "cell_type": "code",
   "execution_count": 7,
   "metadata": {},
   "outputs": [],
   "source": [
    "# Possible Answer to Reference\n",
    "convert_ans = function(data){\n",
    "    res = as.numeric(charToRaw(tolower(data))) - 96\n",
    "    res[which((res<1)|(res>26))]=0\n",
    "    return(res)\n",
    "}"
   ]
  },
  {
   "cell_type": "code",
   "execution_count": null,
   "metadata": {},
   "outputs": [],
   "source": [
    "# Notes"
   ]
  },
  {
   "cell_type": "markdown",
   "metadata": {},
   "source": [
    "### 类型\n",
    "\n",
    "研究各种各样的数据类型吧。了解到如何判断数据的类型（有的时候这对调试很重要）。测试使用向量组装这些数据类型之后，合并出的向量的数据类型。\n",
    "\n",
    "#### 基础数据类型\n",
    "\n",
    "- 数字\n",
    "- 字符\n",
    "- 逻辑\n",
    "- 因子\n",
    "- 复数\n",
    "\n",
    "#### 查看数据类型的方法\n",
    "\n",
    "- mode\n",
    "- typeof\n",
    "- class\n"
   ]
  },
  {
   "cell_type": "code",
   "execution_count": 52,
   "metadata": {},
   "outputs": [],
   "source": [
    "num = c(4,82,-3,0.5)\n",
    "chr = c('b','95','0.3','hello')\n",
    "lgl = c(TRUE,FALSE,FALSE,FALSE)\n",
    "fac = c(0,1,2,1)\n",
    "a=complex(real=1,imaginary=1)\n",
    "b=complex(real=0,imaginary=-1)\n",
    "com = c(a,b,0,8)"
   ]
  },
  {
   "cell_type": "code",
   "execution_count": 50,
   "metadata": {
    "scrolled": true
   },
   "outputs": [
    {
     "data": {
      "text/html": [
       "'numeric'"
      ],
      "text/latex": [
       "'numeric'"
      ],
      "text/markdown": [
       "'numeric'"
      ],
      "text/plain": [
       "[1] \"numeric\""
      ]
     },
     "metadata": {},
     "output_type": "display_data"
    },
    {
     "data": {
      "text/html": [
       "'character'"
      ],
      "text/latex": [
       "'character'"
      ],
      "text/markdown": [
       "'character'"
      ],
      "text/plain": [
       "[1] \"character\""
      ]
     },
     "metadata": {},
     "output_type": "display_data"
    },
    {
     "data": {
      "text/html": [
       "'logical'"
      ],
      "text/latex": [
       "'logical'"
      ],
      "text/markdown": [
       "'logical'"
      ],
      "text/plain": [
       "[1] \"logical\""
      ]
     },
     "metadata": {},
     "output_type": "display_data"
    },
    {
     "data": {
      "text/html": [
       "'numeric'"
      ],
      "text/latex": [
       "'numeric'"
      ],
      "text/markdown": [
       "'numeric'"
      ],
      "text/plain": [
       "[1] \"numeric\""
      ]
     },
     "metadata": {},
     "output_type": "display_data"
    },
    {
     "data": {
      "text/html": [
       "'complex'"
      ],
      "text/latex": [
       "'complex'"
      ],
      "text/markdown": [
       "'complex'"
      ],
      "text/plain": [
       "[1] \"complex\""
      ]
     },
     "metadata": {},
     "output_type": "display_data"
    },
    {
     "data": {
      "text/html": [
       "'character'"
      ],
      "text/latex": [
       "'character'"
      ],
      "text/markdown": [
       "'character'"
      ],
      "text/plain": [
       "[1] \"character\""
      ]
     },
     "metadata": {},
     "output_type": "display_data"
    },
    {
     "data": {
      "text/html": [
       "'character'"
      ],
      "text/latex": [
       "'character'"
      ],
      "text/markdown": [
       "'character'"
      ],
      "text/plain": [
       "[1] \"character\""
      ]
     },
     "metadata": {},
     "output_type": "display_data"
    },
    {
     "data": {
      "text/html": [
       "'character'"
      ],
      "text/latex": [
       "'character'"
      ],
      "text/markdown": [
       "'character'"
      ],
      "text/plain": [
       "[1] \"character\""
      ]
     },
     "metadata": {},
     "output_type": "display_data"
    },
    {
     "data": {
      "text/html": [
       "FALSE"
      ],
      "text/latex": [
       "FALSE"
      ],
      "text/markdown": [
       "FALSE"
      ],
      "text/plain": [
       "[1] FALSE"
      ]
     },
     "metadata": {},
     "output_type": "display_data"
    },
    {
     "data": {
      "text/html": [
       "TRUE"
      ],
      "text/latex": [
       "TRUE"
      ],
      "text/markdown": [
       "TRUE"
      ],
      "text/plain": [
       "[1] TRUE"
      ]
     },
     "metadata": {},
     "output_type": "display_data"
    },
    {
     "data": {
      "text/html": [
       "<ol class=list-inline>\n",
       "\t<li>'4'</li>\n",
       "\t<li>'82'</li>\n",
       "\t<li>'-3'</li>\n",
       "\t<li>'0.5'</li>\n",
       "</ol>\n"
      ],
      "text/latex": [
       "\\begin{enumerate*}\n",
       "\\item '4'\n",
       "\\item '82'\n",
       "\\item '-3'\n",
       "\\item '0.5'\n",
       "\\end{enumerate*}\n"
      ],
      "text/markdown": [
       "1. '4'\n",
       "2. '82'\n",
       "3. '-3'\n",
       "4. '0.5'\n",
       "\n",
       "\n"
      ],
      "text/plain": [
       "[1] \"4\"   \"82\"  \"-3\"  \"0.5\""
      ]
     },
     "metadata": {},
     "output_type": "display_data"
    },
    {
     "name": "stderr",
     "output_type": "stream",
     "text": [
      "Warning message in eval(expr, envir, enclos):\n",
      "\"强制改变过程中产生了NA\""
     ]
    },
    {
     "data": {
      "text/html": [
       "<ol class=list-inline>\n",
       "\t<li>NA</li>\n",
       "\t<li>'95'</li>\n",
       "\t<li>'0.3'</li>\n",
       "\t<li>NA</li>\n",
       "</ol>\n"
      ],
      "text/latex": [
       "\\begin{enumerate*}\n",
       "\\item NA\n",
       "\\item '95'\n",
       "\\item '0.3'\n",
       "\\item NA\n",
       "\\end{enumerate*}\n"
      ],
      "text/markdown": [
       "1. NA\n",
       "2. '95'\n",
       "3. '0.3'\n",
       "4. NA\n",
       "\n",
       "\n"
      ],
      "text/plain": [
       "[1] NA    \"95\"  \"0.3\" NA   "
      ]
     },
     "metadata": {},
     "output_type": "display_data"
    },
    {
     "data": {
      "text/html": [
       "'logical'"
      ],
      "text/latex": [
       "'logical'"
      ],
      "text/markdown": [
       "'logical'"
      ],
      "text/plain": [
       "[1] \"logical\""
      ]
     },
     "metadata": {},
     "output_type": "display_data"
    },
    {
     "data": {
      "text/html": [
       "FALSE"
      ],
      "text/latex": [
       "FALSE"
      ],
      "text/markdown": [
       "FALSE"
      ],
      "text/plain": [
       "[1] FALSE"
      ]
     },
     "metadata": {},
     "output_type": "display_data"
    }
   ],
   "source": [
    "mode(num)\n",
    "typeof(chr)\n",
    "class(lgl)\n",
    "mode(fac)\n",
    "mode(com)\n",
    "mode(mode(num))\n",
    "mode(typeof(chr))\n",
    "mode(class(lgl))\n",
    "class(lgl)=='character'\n",
    "class(lgl)=='logical'\n",
    "as.character(num)\n",
    "as.character(as.numeric(chr))\n",
    "mode(is.numeric(num))\n",
    "is.numeric(chr)"
   ]
  },
  {
   "cell_type": "code",
   "execution_count": 67,
   "metadata": {},
   "outputs": [
    {
     "data": {
      "text/html": [
       "<ol class=list-inline>\n",
       "\t<li>0</li>\n",
       "\t<li>1</li>\n",
       "\t<li>2</li>\n",
       "\t<li>1</li>\n",
       "</ol>\n"
      ],
      "text/latex": [
       "\\begin{enumerate*}\n",
       "\\item 0\n",
       "\\item 1\n",
       "\\item 2\n",
       "\\item 1\n",
       "\\end{enumerate*}\n"
      ],
      "text/markdown": [
       "1. 0\n",
       "2. 1\n",
       "3. 2\n",
       "4. 1\n",
       "\n",
       "\n"
      ],
      "text/plain": [
       "[1] 0 1 2 1"
      ]
     },
     "metadata": {},
     "output_type": "display_data"
    },
    {
     "name": "stdout",
     "output_type": "stream",
     "text": [
      "[1] \"numeric\"\n"
     ]
    },
    {
     "data": {
      "text/html": [
       "FALSE"
      ],
      "text/latex": [
       "FALSE"
      ],
      "text/markdown": [
       "FALSE"
      ],
      "text/plain": [
       "[1] FALSE"
      ]
     },
     "metadata": {},
     "output_type": "display_data"
    },
    {
     "name": "stdout",
     "output_type": "stream",
     "text": [
      "[1] 0 1 2 1\n",
      "Levels: 0 1 2\n"
     ]
    },
    {
     "data": {
      "text/html": [
       "TRUE"
      ],
      "text/latex": [
       "TRUE"
      ],
      "text/markdown": [
       "TRUE"
      ],
      "text/plain": [
       "[1] TRUE"
      ]
     },
     "metadata": {},
     "output_type": "display_data"
    },
    {
     "name": "stdout",
     "output_type": "stream",
     "text": [
      "[1] \"numeric\"\n",
      "[1] \"factor\"\n",
      "[1] 1\n",
      "Levels: 0 1 2\n",
      "[1] 2\n"
     ]
    },
    {
     "data": {
      "text/html": [
       "<ol class=list-inline>\n",
       "\t<li>1</li>\n",
       "\t<li>2</li>\n",
       "\t<li>3</li>\n",
       "\t<li>2</li>\n",
       "</ol>\n"
      ],
      "text/latex": [
       "\\begin{enumerate*}\n",
       "\\item 1\n",
       "\\item 2\n",
       "\\item 3\n",
       "\\item 2\n",
       "\\end{enumerate*}\n"
      ],
      "text/markdown": [
       "1. 1\n",
       "2. 2\n",
       "3. 3\n",
       "4. 2\n",
       "\n",
       "\n"
      ],
      "text/plain": [
       "[1] 1 2 3 2"
      ]
     },
     "metadata": {},
     "output_type": "display_data"
    }
   ],
   "source": [
    "fac = c(0,1,2,1)\n",
    "as.numeric(fac)\n",
    "print(mode(fac))\n",
    "is.factor(fac)\n",
    "fac=as.factor(fac)\n",
    "print(fac)\n",
    "is.factor(fac)\n",
    "print(mode(fac))\n",
    "print(class(fac))\n",
    "print(fac[2])\n",
    "print(as.numeric(fac[2]))\n",
    "as.numeric(fac)\n"
   ]
  },
  {
   "cell_type": "code",
   "execution_count": 58,
   "metadata": {},
   "outputs": [
    {
     "name": "stdout",
     "output_type": "stream",
     "text": [
      "[1] \"numeric\"\n",
      "[1] 90  88  95  59  88  90  100\n",
      "Levels: 59 88 90 95 100\n",
      "[1] \"numeric\"\n",
      "[1] \"character\"\n",
      "[1] chris bob   david alice bob   chris emily\n",
      "Levels: alice bob chris david emily\n",
      "[1] \"numeric\"\n"
     ]
    },
    {
     "data": {
      "text/html": [
       "<dl class=dl-horizontal>\n",
       "\t<dt>alice</dt>\n",
       "\t\t<dd>1</dd>\n",
       "\t<dt>bob</dt>\n",
       "\t\t<dd>2</dd>\n",
       "\t<dt>chris</dt>\n",
       "\t\t<dd>2</dd>\n",
       "\t<dt>david</dt>\n",
       "\t\t<dd>1</dd>\n",
       "\t<dt>emily</dt>\n",
       "\t\t<dd>1</dd>\n",
       "</dl>\n"
      ],
      "text/latex": [
       "\\begin{description*}\n",
       "\\item[alice] 1\n",
       "\\item[bob] 2\n",
       "\\item[chris] 2\n",
       "\\item[david] 1\n",
       "\\item[emily] 1\n",
       "\\end{description*}\n"
      ],
      "text/markdown": [
       "alice\n",
       ":   1bob\n",
       ":   2chris\n",
       ":   2david\n",
       ":   1emily\n",
       ":   1\n",
       "\n"
      ],
      "text/plain": [
       "alice   bob chris david emily \n",
       "    1     2     2     1     1 "
      ]
     },
     "metadata": {},
     "output_type": "display_data"
    },
    {
     "name": "stderr",
     "output_type": "stream",
     "text": [
      "Warning message in print(as.numeric(char2)):\n",
      "\"强制改变过程中产生了NA\""
     ]
    },
    {
     "name": "stdout",
     "output_type": "stream",
     "text": [
      "[1] NA NA NA NA NA NA NA\n",
      "[1] 3 2 4 1 2 3 5\n",
      "[1] 3 2 4 1 2 3 5\n"
     ]
    }
   ],
   "source": [
    "#Understanding factor\n",
    "num2=c(90,88,95,59,88,90,100)\n",
    "print(mode(num2))\n",
    "print(as.factor(num2))\n",
    "print(mode(as.factor(num2)))\n",
    "char2=c('chris','bob','david','alice','bob','chris','emily')\n",
    "print(mode(char2))\n",
    "print(as.factor(char2))\n",
    "print(mode(as.factor(char2)))\n",
    "summary(as.factor(char2))\n",
    "print(as.numeric(char2))\n",
    "print(as.numeric(as.factor(char2)))\n",
    "print(as.numeric(as.factor(num2)))"
   ]
  },
  {
   "cell_type": "code",
   "execution_count": 65,
   "metadata": {},
   "outputs": [
    {
     "name": "stdout",
     "output_type": "stream",
     "text": [
      "[1]  TRUE FALSE  TRUE\n",
      "[1] 1 0 1\n",
      "Levels: 0 1\n"
     ]
    },
    {
     "data": {
      "text/html": [
       "<ol class=list-inline>\n",
       "\t<li>TRUE</li>\n",
       "\t<li>FALSE</li>\n",
       "\t<li>TRUE</li>\n",
       "</ol>\n",
       "\n",
       "<details>\n",
       "\t<summary style=display:list-item;cursor:pointer>\n",
       "\t\t<strong>Levels</strong>:\n",
       "\t</summary>\n",
       "\t<ol class=list-inline>\n",
       "\t\t<li>'FALSE'</li>\n",
       "\t\t<li>'TRUE'</li>\n",
       "\t</ol>\n",
       "</details>"
      ],
      "text/latex": [
       "\\begin{enumerate*}\n",
       "\\item TRUE\n",
       "\\item FALSE\n",
       "\\item TRUE\n",
       "\\end{enumerate*}\n",
       "\n",
       "\\emph{Levels}: \\begin{enumerate*}\n",
       "\\item 'FALSE'\n",
       "\\item 'TRUE'\n",
       "\\end{enumerate*}\n"
      ],
      "text/markdown": [
       "1. TRUE\n",
       "2. FALSE\n",
       "3. TRUE\n",
       "\n",
       "\n",
       "\n",
       "**Levels**: 1. 'FALSE'\n",
       "2. 'TRUE'\n",
       "\n",
       "\n"
      ],
      "text/plain": [
       "[1] TRUE  FALSE TRUE \n",
       "Levels: FALSE TRUE"
      ]
     },
     "metadata": {},
     "output_type": "display_data"
    },
    {
     "data": {
      "text/html": [
       "<ol class=list-inline>\n",
       "\t<li>2</li>\n",
       "\t<li>1</li>\n",
       "\t<li>2</li>\n",
       "</ol>\n"
      ],
      "text/latex": [
       "\\begin{enumerate*}\n",
       "\\item 2\n",
       "\\item 1\n",
       "\\item 2\n",
       "\\end{enumerate*}\n"
      ],
      "text/markdown": [
       "1. 2\n",
       "2. 1\n",
       "3. 2\n",
       "\n",
       "\n"
      ],
      "text/plain": [
       "[1] 2 1 2"
      ]
     },
     "metadata": {},
     "output_type": "display_data"
    },
    {
     "data": {
      "text/html": [
       "<ol class=list-inline>\n",
       "\t<li>1</li>\n",
       "\t<li>0</li>\n",
       "\t<li>1</li>\n",
       "</ol>\n"
      ],
      "text/latex": [
       "\\begin{enumerate*}\n",
       "\\item 1\n",
       "\\item 0\n",
       "\\item 1\n",
       "\\end{enumerate*}\n"
      ],
      "text/markdown": [
       "1. 1\n",
       "2. 0\n",
       "3. 1\n",
       "\n",
       "\n"
      ],
      "text/plain": [
       "[1] 1 0 1"
      ]
     },
     "metadata": {},
     "output_type": "display_data"
    },
    {
     "data": {
      "text/html": [
       "<ol class=list-inline>\n",
       "\t<li>2</li>\n",
       "\t<li>1</li>\n",
       "\t<li>2</li>\n",
       "</ol>\n"
      ],
      "text/latex": [
       "\\begin{enumerate*}\n",
       "\\item 2\n",
       "\\item 1\n",
       "\\item 2\n",
       "\\end{enumerate*}\n"
      ],
      "text/markdown": [
       "1. 2\n",
       "2. 1\n",
       "3. 2\n",
       "\n",
       "\n"
      ],
      "text/plain": [
       "[1] 2 1 2"
      ]
     },
     "metadata": {},
     "output_type": "display_data"
    }
   ],
   "source": [
    "lgl1=c(TRUE,FALSE,TRUE)\n",
    "num1=as.factor(c(1,0,1))\n",
    "print(lgl1)\n",
    "print(num1)\n",
    "as.factor(lgl1)\n",
    "as.numeric(as.factor(lgl1))\n",
    "as.numeric(lgl1)\n",
    "as.numeric(num1)"
   ]
  },
  {
   "cell_type": "code",
   "execution_count": 66,
   "metadata": {},
   "outputs": [
    {
     "name": "stdout",
     "output_type": "stream",
     "text": [
      "[1] TRUE\n",
      "[1] TRUE\n",
      "[1] \"numeric\"\n",
      "[1] \"integer\"\n",
      "[1] \"factor\"\n",
      "[1] TRUE\n",
      "[1] FALSE\n",
      "[1] \"numeric\"\n",
      "[1] FALSE\n",
      "[1] \"numeric\"\n",
      "[1] TRUE\n"
     ]
    }
   ],
   "source": [
    "#Understanding Factor\n",
    "print(is.factor(as.factor(char2)))\n",
    "print(is.factor(fac))\n",
    "fac2=as.factor(char2)\n",
    "print(mode(fac2)) #To search: why?\n",
    "print(typeof(fac2)) #To search: why?\n",
    "print(class(fac2)) #To search: why?\n",
    "print(is.factor(fac2))\n",
    "print(is.numeric(fac2))\n",
    "fac3=c(1,2,1,2,3)\n",
    "print(mode(fac3))\n",
    "print(is.factor(fac3))\n",
    "fac3=as.factor(fac3)\n",
    "print(mode(fac3))\n",
    "print(is.factor(fac3))"
   ]
  },
  {
   "cell_type": "code",
   "execution_count": 71,
   "metadata": {},
   "outputs": [
    {
     "name": "stdout",
     "output_type": "stream",
     "text": [
      "[1] 1+1i 0-1i 0+0i 8+0i\n",
      "[1] 2+1i 1-1i 1+0i 9+0i\n",
      "[1] 1+3i 0+1i 0+2i 8+2i\n",
      "[1]  2+2i  0-2i  0+0i 16+0i\n",
      "[1] -1+1i  1+0i  0+0i  0+8i\n",
      "[1] 3.5+0i\n",
      "[1] 1\n"
     ]
    },
    {
     "name": "stderr",
     "output_type": "stream",
     "text": [
      "Warning message in print(as.numeric(complex(real = 1, imaginary = 2))):\n",
      "\"强制改变时丢弃了虚数部分\""
     ]
    },
    {
     "name": "stdout",
     "output_type": "stream",
     "text": [
      "[1] 1\n"
     ]
    },
    {
     "data": {
      "text/html": [
       "0+1i"
      ],
      "text/latex": [
       "0+1i"
      ],
      "text/markdown": [
       "0+1i"
      ],
      "text/plain": [
       "[1] 0+1i"
      ]
     },
     "metadata": {},
     "output_type": "display_data"
    }
   ],
   "source": [
    "#Complex\n",
    "print(com)\n",
    "print(com+1)\n",
    "print(com+complex(real=0,imaginary=2))\n",
    "print(com*2)\n",
    "print(com*complex(real=0,imaginary=1))\n",
    "print(as.complex(3.5))\n",
    "print(as.numeric(complex(real=1,imaginary=0)))\n",
    "print(as.numeric(complex(real=1,imaginary=2)))\n",
    "sqrt(as.complex(-1))"
   ]
  },
  {
   "cell_type": "code",
   "execution_count": 79,
   "metadata": {},
   "outputs": [
    {
     "name": "stdout",
     "output_type": "stream",
     "text": [
      "[1]  1.0+1i  0.0-1i  0.0+0i  8.0+0i  4.0+0i 82.0+0i -3.0+0i  0.5+0i\n",
      " [1]  1.0+1i  0.0-1i  0.0+0i  8.0+0i  4.0+0i 82.0+0i -3.0+0i  0.5+0i  1.0+0i\n",
      "[10]  2.0+0i  3.0+0i  2.0+0i\n",
      " [1] \"1+1i\"  \"0-1i\"  \"0+0i\"  \"8+0i\"  \"4\"     \"82\"    \"-3\"    \"0.5\"   \"3\"    \n",
      "[10] \"2\"     \"4\"     \"1\"     \"2\"     \"3\"     \"5\"     \"b\"     \"95\"    \"0.3\"  \n",
      "[19] \"hello\"\n",
      " [1] \"1+1i\"   \"0-1i\"   \"0+0i\"   \"8+0i\"   \"4+0i\"   \"82+0i\"  \"-3+0i\"  \"0.5+0i\"\n",
      " [9] \"3+0i\"   \"2+0i\"   \"4+0i\"   \"1+0i\"   \"2+0i\"   \"3+0i\"   \"5+0i\"   \"b\"     \n",
      "[17] \"95\"     \"0.3\"    \"hello\" \n",
      "[1]  5.0 82.0 -3.0  0.5\n",
      "[1]  1.0  0.0  0.0  0.0  4.0 82.0 -3.0  0.5\n",
      "[1] \"TRUE\"  \"FALSE\" \"FALSE\" \"FALSE\" \"b\"     \"95\"    \"0.3\"   \"hello\"\n",
      "[1] 1+0i 0+0i 0+0i 0+0i 1+1i 0-1i 0+0i 8+0i\n",
      "[1] 2+1i 0-1i 0+0i 8+0i\n",
      " [1] 1 0 0 0 3 2 4 1 2 3 5\n"
     ]
    }
   ],
   "source": [
    "#Concatenating\n",
    "print(c(com,num))\n",
    "print(c(com,num,fac)) #line folding\n",
    "print(c(com,num,as.factor(char2),chr))\n",
    "print(c(c(com,num,as.factor(char2)),chr))\n",
    "print(lgl+num)\n",
    "print(c(lgl,num))\n",
    "print(c(lgl,chr))\n",
    "print(c(lgl,com))\n",
    "print(lgl+com)\n",
    "#factor->numeric->complex->character\n",
    "#logical->numeric\n",
    "print(c(lgl,as.factor(char2)))"
   ]
  },
  {
   "cell_type": "code",
   "execution_count": 84,
   "metadata": {},
   "outputs": [
    {
     "name": "stdout",
     "output_type": "stream",
     "text": [
      "[1]  4.0 82.0 -3.0  0.5\n",
      "[1]  4 82 -3  0\n",
      "[1]  4.0 82.0 -3.0  0.5\n",
      "[1] \"numeric\"\n",
      "[1] \"integer\"\n",
      "[1] \"integer\"\n",
      "[1] \"numeric\"\n",
      "[1] \"numeric\"\n",
      "[1] \"double\"\n"
     ]
    }
   ],
   "source": [
    "#Integer and Floating \n",
    "print(num)\n",
    "print(as.integer(num))\n",
    "print(as.double(num))\n",
    "integer_num=as.integer(num)\n",
    "double_num=as.double(num)\n",
    "print(mode(integer_num))\n",
    "print(class(integer_num))\n",
    "print(typeof(integer_num))\n",
    "print(mode(double_num))\n",
    "print(class(double_num))\n",
    "print(typeof(double_num))"
   ]
  },
  {
   "cell_type": "code",
   "execution_count": 88,
   "metadata": {},
   "outputs": [
    {
     "name": "stdout",
     "output_type": "stream",
     "text": [
      "[1] 1 2 3\n",
      "[1] \"integer\"\n",
      "[1] 1 2 3\n",
      "[1] \"1\" \"2\" \"3\"\n",
      "[1] \"double\"\n"
     ]
    }
   ],
   "source": [
    "test=as.integer(c(1,2,3))\n",
    "print(test)\n",
    "print(typeof(test))\n",
    "test1=as.double(test)\n",
    "print(test1)\n",
    "print(as.character(test1))\n",
    "print(typeof(test1))"
   ]
  },
  {
   "cell_type": "markdown",
   "metadata": {},
   "source": [
    "#### 非数字值的产生\n",
    "数据中会出现很多不合法的数值。研究各种这些数值的类型吧。\n",
    "\n",
    "- NaN\n",
    "- NA\n",
    "- Inf\n",
    "- -Inf\n",
    "- NULL"
   ]
  },
  {
   "cell_type": "code",
   "execution_count": 89,
   "metadata": {},
   "outputs": [
    {
     "name": "stdout",
     "output_type": "stream",
     "text": [
      "[1] 3.000000 1.666667      Inf      NaN     -Inf\n"
     ]
    },
    {
     "name": "stderr",
     "output_type": "stream",
     "text": [
      "Warning message in sqrt(a):\n",
      "\"产生了NaNs\""
     ]
    },
    {
     "name": "stdout",
     "output_type": "stream",
     "text": [
      "[1] 1.732051 2.236068 2.645751 0.000000      NaN\n"
     ]
    },
    {
     "name": "stderr",
     "output_type": "stream",
     "text": [
      "Warning message in print(as.numeric(c)):\n",
      "\"强制改变过程中产生了NA\""
     ]
    },
    {
     "name": "stdout",
     "output_type": "stream",
     "text": [
      "[1]  1  5 -1 NA NA\n"
     ]
    },
    {
     "name": "stderr",
     "output_type": "stream",
     "text": [
      "Warning message in print(as.complex(c)):\n",
      "\"强制改变过程中产生了NA\""
     ]
    },
    {
     "name": "stdout",
     "output_type": "stream",
     "text": [
      "[1]  1+0i  5+0i -1+0i    NA    NA\n"
     ]
    },
    {
     "name": "stderr",
     "output_type": "stream",
     "text": [
      "Warning message in print(sqrt(as.complex(c))):\n",
      "\"强制改变过程中产生了NA\""
     ]
    },
    {
     "name": "stdout",
     "output_type": "stream",
     "text": [
      "[1] 1.000000+0i 2.236068+0i 0.000000+1i          NA          NA\n",
      "[1] 1.732051+0i 2.236068+0i 2.645751+0i 0.000000+0i 0.000000+1i\n",
      "[1] \"g\" \"6\"\n",
      "[1] \"1\"   \"5\"   \"-1\"  \"3+i\" \"nxz\" \"g\"   \"6\"  \n",
      "[1] \"g\" \"6\" \"3\"\n",
      "[1] \"NULL\"\n",
      "[1] \"NULL\"\n",
      "[1] \"NULL\"\n",
      "[1] \"numeric\"\n"
     ]
    }
   ],
   "source": [
    "a = c(3,5,7,0,-1)\n",
    "b = c(1,3,0,0,0)\n",
    "print(a/b)\n",
    "print(sqrt(a))\n",
    "c = c('1','5','-1','3+i','nxz')\n",
    "print(as.numeric(c))\n",
    "print(as.complex(c))\n",
    "print(sqrt(as.complex(c)))\n",
    "print(sqrt(as.complex(a)))\n",
    "d = c('g',6,NULL)\n",
    "print(d)\n",
    "print(c(c,d))\n",
    "e = c(NULL,3)\n",
    "print(c(d,e))\n",
    "f = NULL\n",
    "print(mode(f))\n",
    "print(class(f))\n",
    "print(typeof(f))\n",
    "g = NaN\n",
    "print(mode(g))"
   ]
  },
  {
   "cell_type": "markdown",
   "metadata": {},
   "source": [
    "### 向量操作（2）：筛选\n",
    "可以很容易地对向量进行简单的筛选。试着使用各种条件来筛选吧。\n",
    "\n",
    "- \\[\\]\n",
    "- subset\n",
    "- which"
   ]
  },
  {
   "cell_type": "code",
   "execution_count": 106,
   "metadata": {},
   "outputs": [
    {
     "data": {
      "text/html": [
       "<ol class=list-inline>\n",
       "\t<li>FALSE</li>\n",
       "\t<li>FALSE</li>\n",
       "\t<li>TRUE</li>\n",
       "</ol>\n"
      ],
      "text/latex": [
       "\\begin{enumerate*}\n",
       "\\item FALSE\n",
       "\\item FALSE\n",
       "\\item TRUE\n",
       "\\end{enumerate*}\n"
      ],
      "text/markdown": [
       "1. FALSE\n",
       "2. FALSE\n",
       "3. TRUE\n",
       "\n",
       "\n"
      ],
      "text/plain": [
       "[1] FALSE FALSE  TRUE"
      ]
     },
     "metadata": {},
     "output_type": "display_data"
    },
    {
     "data": {
      "text/html": [
       "<ol class=list-inline>\n",
       "\t<li>1</li>\n",
       "\t<li>3</li>\n",
       "</ol>\n"
      ],
      "text/latex": [
       "\\begin{enumerate*}\n",
       "\\item 1\n",
       "\\item 3\n",
       "\\end{enumerate*}\n"
      ],
      "text/markdown": [
       "1. 1\n",
       "2. 3\n",
       "\n",
       "\n"
      ],
      "text/plain": [
       "[1] 1 3"
      ]
     },
     "metadata": {},
     "output_type": "display_data"
    },
    {
     "data": {
      "text/html": [
       "<ol class=list-inline>\n",
       "\t<li>2</li>\n",
       "\t<li>4</li>\n",
       "\t<li>4</li>\n",
       "\t<li>6</li>\n",
       "</ol>\n"
      ],
      "text/latex": [
       "\\begin{enumerate*}\n",
       "\\item 2\n",
       "\\item 4\n",
       "\\item 4\n",
       "\\item 6\n",
       "\\end{enumerate*}\n"
      ],
      "text/markdown": [
       "1. 2\n",
       "2. 4\n",
       "3. 4\n",
       "4. 6\n",
       "\n",
       "\n"
      ],
      "text/plain": [
       "[1] 2 4 4 6"
      ]
     },
     "metadata": {},
     "output_type": "display_data"
    }
   ],
   "source": [
    "datanum=c(1,2,3)\n",
    "datanum>2\n",
    "datanum[c(1,3)]\n",
    "datanum=c(1,2,3,4)\n",
    "dataref=c(1,2)\n",
    "datanum+dataref"
   ]
  },
  {
   "cell_type": "code",
   "execution_count": 108,
   "metadata": {},
   "outputs": [
    {
     "name": "stdout",
     "output_type": "stream",
     "text": [
      "[1] 10  9  8  7  6  5  4\n",
      "[1] 1 2 3 4 5 6 7\n",
      "[1] \"numeric\"\n",
      "[1] \"logical\"\n",
      "[1] 10  9  8  7  6  5  4\n",
      "[1] 1 3 5 7 9\n",
      " [1]  TRUE  TRUE  TRUE  TRUE  TRUE  TRUE  TRUE FALSE FALSE FALSE\n",
      " [1]  TRUE  TRUE  TRUE FALSE FALSE FALSE FALSE FALSE FALSE FALSE\n",
      "[1] 10  9  8\n"
     ]
    },
    {
     "name": "stderr",
     "output_type": "stream",
     "text": [
      "Warning message in eval(expr, envir, enclos):\n",
      "\"强制改变过程中产生了NA\""
     ]
    },
    {
     "name": "stdout",
     "output_type": "stream",
     "text": [
      "[1] 1.3  NA 3.0\n"
     ]
    },
    {
     "data": {
      "text/html": [
       "<ol class=list-inline>\n",
       "\t<li>FALSE</li>\n",
       "\t<li>&lt;NA&gt;</li>\n",
       "\t<li>TRUE</li>\n",
       "</ol>\n"
      ],
      "text/latex": [
       "\\begin{enumerate*}\n",
       "\\item FALSE\n",
       "\\item <NA>\n",
       "\\item TRUE\n",
       "\\end{enumerate*}\n"
      ],
      "text/markdown": [
       "1. FALSE\n",
       "2. &lt;NA&gt;\n",
       "3. TRUE\n",
       "\n",
       "\n"
      ],
      "text/plain": [
       "[1] FALSE    NA  TRUE"
      ]
     },
     "metadata": {},
     "output_type": "display_data"
    },
    {
     "name": "stdout",
     "output_type": "stream",
     "text": [
      "[1] 3\n",
      "[1] NA  3\n",
      "[1] 3\n"
     ]
    }
   ],
   "source": [
    "data = c(10,9,8,7,6,5,4,3,2,1)\n",
    "print(data[data>3])\n",
    "print(which(data>3))\n",
    "print(mode(which(data>3)))\n",
    "print(mode(data>3))\n",
    "print(data[which(data>3)])\n",
    "print(which(data%%2==0))\n",
    "print(data>3)\n",
    "ref = c(1,3,5,7,9,11,13,15,17,19)\n",
    "print(data>ref)\n",
    "print(data[which(data>ref)])\n",
    "data2=as.numeric(c('1.3','b','3'))\n",
    "print(data2)\n",
    "data2>1.5\n",
    "print(data2[which(data2>1.5)])\n",
    "print(data2[data2>1.5])\n",
    "print(subset(data2,data2>1.5))"
   ]
  },
  {
   "cell_type": "code",
   "execution_count": 111,
   "metadata": {},
   "outputs": [
    {
     "data": {
      "text/html": [
       "<ol class=list-inline>\n",
       "\t<li>TRUE</li>\n",
       "\t<li>FALSE</li>\n",
       "\t<li>FALSE</li>\n",
       "</ol>\n"
      ],
      "text/latex": [
       "\\begin{enumerate*}\n",
       "\\item TRUE\n",
       "\\item FALSE\n",
       "\\item FALSE\n",
       "\\end{enumerate*}\n"
      ],
      "text/markdown": [
       "1. TRUE\n",
       "2. FALSE\n",
       "3. FALSE\n",
       "\n",
       "\n"
      ],
      "text/plain": [
       "[1]  TRUE FALSE FALSE"
      ]
     },
     "metadata": {},
     "output_type": "display_data"
    },
    {
     "data": {
      "text/html": [
       "1"
      ],
      "text/latex": [
       "1"
      ],
      "text/markdown": [
       "1"
      ],
      "text/plain": [
       "[1] 1"
      ]
     },
     "metadata": {},
     "output_type": "display_data"
    },
    {
     "data": {
      "text/html": [
       "<ol class=list-inline>\n",
       "\t<li>100</li>\n",
       "\t<li>97</li>\n",
       "</ol>\n"
      ],
      "text/latex": [
       "\\begin{enumerate*}\n",
       "\\item 100\n",
       "\\item 97\n",
       "\\end{enumerate*}\n"
      ],
      "text/markdown": [
       "1. 100\n",
       "2. 97\n",
       "\n",
       "\n"
      ],
      "text/plain": [
       "[1] 100  97"
      ]
     },
     "metadata": {},
     "output_type": "display_data"
    },
    {
     "data": {
      "text/html": [
       "100"
      ],
      "text/latex": [
       "100"
      ],
      "text/markdown": [
       "100"
      ],
      "text/plain": [
       "[1] 100"
      ]
     },
     "metadata": {},
     "output_type": "display_data"
    },
    {
     "data": {
      "text/html": [
       "<ol class=list-inline>\n",
       "\t<li>100</li>\n",
       "\t<li>97</li>\n",
       "</ol>\n"
      ],
      "text/latex": [
       "\\begin{enumerate*}\n",
       "\\item 100\n",
       "\\item 97\n",
       "\\end{enumerate*}\n"
      ],
      "text/markdown": [
       "1. 100\n",
       "2. 97\n",
       "\n",
       "\n"
      ],
      "text/plain": [
       "[1] 100  97"
      ]
     },
     "metadata": {},
     "output_type": "display_data"
    }
   ],
   "source": [
    "name=c('nxz','bwx','qzp')\n",
    "score=c(100,99,98,97,94,100)\n",
    "name=='nxz'\n",
    "which(name=='nxz')\n",
    "score[name=='nxz']\n",
    "score[which(name=='nxz')]\n",
    "subset(score,name=='nxz')"
   ]
  },
  {
   "cell_type": "code",
   "execution_count": 113,
   "metadata": {},
   "outputs": [
    {
     "name": "stdout",
     "output_type": "stream",
     "text": [
      " [1] 10  9  8  7  6  5  4  3  2  1\n",
      "[1] 9 2 4\n",
      "[1] 7 6 5 4 3 2\n",
      "[1] 10 10 10 10 10 10\n",
      "[1] 10  8  6  4  2  1\n",
      "[1] 10  8  6  4  2  1\n",
      "[1] 10  9  7  6  4  3  1\n",
      "[1] 10  9\n",
      "[1] 10  8  6  4  2\n",
      "[1] 10  9  8  7  6  5  4\n",
      "[1]  4  5  6  7  8  9 10\n",
      "[1] 2 1\n"
     ]
    }
   ],
   "source": [
    "#Different usages\n",
    "print(data)\n",
    "ref = c(2,9,7)\n",
    "print(data[ref])\n",
    "ref = c(rep(FALSE,3),rep(TRUE,6),FALSE)\n",
    "print(data[ref])\n",
    "ref = c(1,0,1,0,1,0,1,0,1,1)\n",
    "print(data[ref])\n",
    "print(data[which(ref==1)])\n",
    "print(data[as.logical(ref)])\n",
    "ref = c(1,2,3)\n",
    "print(data[ref<3])\n",
    "print(data[which(ref<3)]) #why?\n",
    "print(data[which(data%%2==0)])\n",
    "print(data[which(data*data>15)])\n",
    "print(data[sort(which(data*data>15),decreasing=TRUE)])\n",
    "print(data[which(rank(data)<3)])"
   ]
  },
  {
   "cell_type": "markdown",
   "metadata": {},
   "source": [
    "### 字符串操作（1）：大小写，截取子串，ASCII码\n",
    "\n",
    "尝试使用以下函数进行大小写转换\n",
    "\n",
    "- tolower()\n",
    "- toupper()\n",
    "\n",
    "使用以下函数可以获得字符串长度\n",
    "\n",
    "- nchar()\n",
    "\n",
    "\n",
    "使用以下函数可以进行子串的截取\n",
    "\n",
    "- substr()\n",
    "\n",
    "使用以下函数将字符串转换成ASCII码的十六进制表示\n",
    "\n",
    "- charToRaw()\n",
    "\n",
    "将十进制表示的ASCII码转换成字符串\n",
    "\n",
    "- rawToChar(as.raw())\n"
   ]
  },
  {
   "cell_type": "code",
   "execution_count": 114,
   "metadata": {},
   "outputs": [
    {
     "name": "stdout",
     "output_type": "stream",
     "text": [
      "[1] \"hello world! 3 plus 5 = eight.\"\n",
      "[1] \"HELLO WORLD! 3 PLUS 5 = EIGHT.\"\n",
      "[1] 30\n",
      "[1] 1\n",
      "[1] 2\n",
      "[1] 30 11\n",
      "[1] \"Hello\"\n",
      "[1] \"\"\n",
      "[1] \"\"\n",
      "[1] \"Hel\"\n",
      "[1] \"llo World! 3 plus 5 = Eight.\"\n",
      "[1] \"llo World! 3 plus 5 = Eight.\"\n",
      " [1] 48 65 6c 6c 6f 20 57 6f 72 6c 64 21 20 33 20 70 6c 75 73 20 35 20 3d 20 45\n",
      "[26] 69 67 68 74 2e\n",
      "[1] \"raw\"\n",
      " [1]  72 101 108 108 111  32  87 111 114 108 100  33  32  51  32 112 108 117 115\n",
      "[20]  32  53  32  61  32  69 105 103 104 116  46\n",
      " [1] 48 65 6c 6c 6f 20 57 6f 72 6c 64 21 20 33 20 70 6c 75 73 20 35 20 3d 20 45\n",
      "[26] 69 67 68 74 2e\n",
      "[1] \"Hello World! 3 plus 5 = Eight.\"\n"
     ]
    }
   ],
   "source": [
    "chr=\"Hello World! 3 plus 5 = Eight.\"\n",
    "print(tolower(chr))\n",
    "print(toupper(chr))\n",
    "print(nchar(chr))\n",
    "print(length(chr))\n",
    "print(length(c(chr,'hello world')))\n",
    "print(nchar(c(chr,'hello world')))\n",
    "print(substr(chr,1,5))\n",
    "print(substr(chr,-1,-2))\n",
    "print(substr(chr,5,1))\n",
    "print(substr(chr,-1,3))\n",
    "print(substr(chr,3,100))\n",
    "print(substring(chr,3)) #Check this\n",
    "print(charToRaw(chr))\n",
    "print(mode(charToRaw(chr)))\n",
    "print(as.numeric(charToRaw(chr)))\n",
    "print(as.raw(as.numeric(charToRaw(chr))))\n",
    "print(rawToChar(as.raw(as.numeric(charToRaw(chr)))))"
   ]
  },
  {
   "cell_type": "markdown",
   "metadata": {},
   "source": [
    "### 练习题1\n",
    "\n",
    "完成函数clean=function(data)，输入一个numeric类型的向量并保证全是整数，返回一个向量，返回值中去掉输入中的'NA'，将'NaN'改为0，将'Inf'改为输入数据中正常数据中最大的那个数加上65536的值，将‘-Inf’改为输入数据中正常数据中最小的那个数减去65536的值。返回值的向量长度可能和输入的向量不同，但要求留存的数据的顺序不变。"
   ]
  },
  {
   "cell_type": "code",
   "execution_count": 116,
   "metadata": {},
   "outputs": [],
   "source": [
    "# sample input\n",
    "input = c(1,3,NA,-2,9,Inf,199,NaN,2,9,-Inf,NA,-8)\n",
    "# sample output\n",
    "output = c(1,3,-2,9,65735,0,2,9,-65544,-8)"
   ]
  },
  {
   "cell_type": "code",
   "execution_count": null,
   "metadata": {},
   "outputs": [],
   "source": [
    "#interface ( please complete the function )\n",
    "clean=function(data){\n",
    "    \n",
    "    res = NULL\n",
    "    # to code here and assign the return value to res\n",
    "\n",
    "    return(res)\n",
    "}"
   ]
  },
  {
   "cell_type": "code",
   "execution_count": null,
   "metadata": {},
   "outputs": [],
   "source": [
    "# to do small experiments"
   ]
  },
  {
   "cell_type": "code",
   "execution_count": null,
   "metadata": {},
   "outputs": [],
   "source": [
    "# to check result\n",
    "print(clean(input))"
   ]
  },
  {
   "cell_type": "markdown",
   "metadata": {},
   "source": [
    "### 练习题2\n",
    "\n",
    "完成函数strhash=function(string)，输入一个字符串，输出一个非负整数作为这个字符串的“验证密钥”。字符串的验证密钥的值由以下函数迭代定义：\n",
    "- strhash(\"\")=0\n",
    "- strhash(paste(s,chr))=(strhash(s) + 1) x (ASCII(chr) + 1） %% 65536"
   ]
  },
  {
   "cell_type": "code",
   "execution_count": null,
   "metadata": {},
   "outputs": [],
   "source": [
    "# sample input\n",
    "input = \"Hello World!\"\n",
    "# sample output\n",
    "output = 16788"
   ]
  },
  {
   "cell_type": "code",
   "execution_count": null,
   "metadata": {},
   "outputs": [],
   "source": [
    "#interface ( please complete the function )\n",
    "strhash=function(string){\n",
    "    res = NULL\n",
    "    # to code here and assign the return value to res\n",
    "\n",
    "    return(res)\n",
    "}"
   ]
  },
  {
   "cell_type": "code",
   "execution_count": null,
   "metadata": {},
   "outputs": [],
   "source": [
    "# to do small experiments"
   ]
  },
  {
   "cell_type": "code",
   "execution_count": null,
   "metadata": {},
   "outputs": [],
   "source": [
    "# to check result\n",
    "print(strhash(input))"
   ]
  },
  {
   "cell_type": "code",
   "execution_count": null,
   "metadata": {},
   "outputs": [],
   "source": []
  }
 ],
 "metadata": {
  "kernelspec": {
   "display_name": "R",
   "language": "R",
   "name": "ir"
  },
  "language_info": {
   "codemirror_mode": "r",
   "file_extension": ".r",
   "mimetype": "text/x-r-source",
   "name": "R",
   "pygments_lexer": "r",
   "version": "3.5.2"
  }
 },
 "nbformat": 4,
 "nbformat_minor": 2
}
